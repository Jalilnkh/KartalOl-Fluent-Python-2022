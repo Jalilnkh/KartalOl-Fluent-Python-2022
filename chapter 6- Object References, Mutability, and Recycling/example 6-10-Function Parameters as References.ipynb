{
 "cells": [
  {
   "cell_type": "markdown",
   "metadata": {},
   "source": [
    "The only mode of parameter passing in Python is call by sharing. Call by sharing means that each formal parameter\n",
    "of the function gets a copy of each reference in the arguments."
   ]
  },
  {
   "cell_type": "code",
   "execution_count": null,
   "metadata": {},
   "outputs": [],
   "source": []
  }
 ],
 "metadata": {
  "language_info": {
   "name": "python"
  },
  "orig_nbformat": 4
 },
 "nbformat": 4,
 "nbformat_minor": 2
}
