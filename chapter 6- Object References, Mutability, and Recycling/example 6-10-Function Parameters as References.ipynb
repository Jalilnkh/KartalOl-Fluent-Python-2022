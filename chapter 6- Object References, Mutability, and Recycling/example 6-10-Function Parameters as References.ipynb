{
 "cells": [
  {
   "cell_type": "markdown",
   "metadata": {},
   "source": [
    "The only mode of parameter passing in Python is call by sharing. Call by sharing means that each formal parameter\n",
    "of the function gets a copy of each reference in the arguments."
   ]
  },
  {
   "cell_type": "code",
   "execution_count": 1,
   "metadata": {},
   "outputs": [
    {
     "data": {
      "text/plain": [
       "3"
      ]
     },
     "execution_count": 1,
     "metadata": {},
     "output_type": "execute_result"
    }
   ],
   "source": [
    "def f(a, b):\n",
    "    a += b\n",
    "    return a\n",
    "\n",
    "y = 2\n",
    "x = 1\n",
    "\n",
    "f(x, y)"
   ]
  },
  {
   "cell_type": "code",
   "execution_count": null,
   "metadata": {},
   "outputs": [],
   "source": []
  }
 ],
 "metadata": {
  "interpreter": {
   "hash": "f37e42b12bd1748322ce5a2251ca22602ec7c09e81e48cb8b4978f90cad86323"
  },
  "kernelspec": {
   "display_name": "Python 3.10.2 64-bit ('venv10': venv)",
   "language": "python",
   "name": "python3"
  },
  "language_info": {
   "codemirror_mode": {
    "name": "ipython",
    "version": 3
   },
   "file_extension": ".py",
   "mimetype": "text/x-python",
   "name": "python",
   "nbconvert_exporter": "python",
   "pygments_lexer": "ipython3",
   "version": "3.10.2"
  },
  "orig_nbformat": 4
 },
 "nbformat": 4,
 "nbformat_minor": 2
}
