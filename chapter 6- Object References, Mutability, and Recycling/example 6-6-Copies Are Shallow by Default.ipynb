{
 "cells": [
  {
   "cell_type": "markdown",
   "metadata": {},
   "source": [
    "The easiest way to copy a list (or most built-in mutable collections) is to use\n",
    "the built-in constructor for the type itself."
   ]
  },
  {
   "cell_type": "code",
   "execution_count": null,
   "metadata": {},
   "outputs": [],
   "source": []
  }
 ],
 "metadata": {
  "language_info": {
   "name": "python"
  },
  "orig_nbformat": 4
 },
 "nbformat": 4,
 "nbformat_minor": 2
}
