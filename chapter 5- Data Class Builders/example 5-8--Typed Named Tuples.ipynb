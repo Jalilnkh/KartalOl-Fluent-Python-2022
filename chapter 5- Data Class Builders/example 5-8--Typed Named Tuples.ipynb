{
 "cells": [
  {
   "cell_type": "markdown",
   "metadata": {},
   "source": [
    "The Coordinate class with a default field from Example 5-6 can be\n",
    "written like this using typing.NamedTuple:\n",
    "Example 5-8. typing_namedtuple/coordinates2.py"
   ]
  },
  {
   "cell_type": "code",
   "execution_count": null,
   "metadata": {},
   "outputs": [],
   "source": []
  }
 ],
 "metadata": {
  "language_info": {
   "name": "python"
  },
  "orig_nbformat": 4
 },
 "nbformat": 4,
 "nbformat_minor": 2
}
