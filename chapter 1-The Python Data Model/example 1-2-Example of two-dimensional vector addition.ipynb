{
 "cells": [
  {
   "cell_type": "markdown",
   "metadata": {},
   "source": [
    "# How Special Methods Are Used\n",
    "\n",
    "\n",
    "The first thing to know about special methods is that they are meant to be\n",
    "called by the Python interpreter, and not by you. You don’t write\n",
    "my_object.__len__(). You write len(my_object) and, if\n",
    "my_object is an instance of a user-defined class, then Python calls the\n",
    "__len__ method you implemented.\n",
    "\n",
    "Normally, your code should not have many direct calls to special methods."
   ]
  },
  {
   "cell_type": "markdown",
   "metadata": {},
   "source": [
    "# Xüsusi Metodlardan Necə İstifadə Edilir\n",
    "\n",
    "\n",
    "Xüsusi üsullar haqqında bilmək lazım olan ilk şey onların nəzərdə tutulmasıdır\n",
    "Python tərcüməçisi tərəfindən çağırılır, sizin tərəfinizdən deyil. yazmazsan\n",
    "mənim_obyektim.__len__(). Siz len(my_object) və, əgər yazırsınız\n",
    "my_object istifadəçi tərəfindən müəyyən edilmiş sinfin nümunəsidir, onda Python onu çağırır\n",
    "__len__ tətbiq etdiyiniz üsul.\n",
    "\n",
    "Normalda kodunuzda xüsusi üsullara birbaşa zənglər çox olmamalıdır."
   ]
  },
  {
   "cell_type": "markdown",
   "metadata": {},
   "source": [
    "# Özel Yöntemler Nasıl Kullanılır\n",
    "\n",
    "\n",
    "Özel yöntemler hakkında bilinmesi gereken ilk şey, bunların olması gerektiğidir.\n",
    "Python yorumlayıcısı tarafından çağrılır, sizin tarafınızdan değil. sen yazma\n",
    "benim_nesnem.__len__(). len(my_object) yazarsınız ve eğer\n",
    "my_object, kullanıcı tanımlı bir sınıfın örneğidir, ardından Python\n",
    "__len__ uyguladığınız yöntem.\n",
    "\n",
    "Normalde, kodunuz özel yöntemlere çok sayıda doğrudan çağrı içermemelidir."
   ]
  },
  {
   "cell_type": "markdown",
   "metadata": {},
   "source": [
    "In the next sections, we’ll see some of the most important uses of special\n",
    "methods:\n",
    "\n",
    "    -Emulating numeric types;\n",
    "    -String representation of objects;\n",
    "    -Boolean value of an object;\n",
    "    -Implementing collections."
   ]
  },
  {
   "cell_type": "markdown",
   "metadata": {},
   "source": [
    "Növbəti bölmələrdə biz xüsusi proqramın ən vacib istifadələrindən bəzilərini görəcəyik\n",
    "üsulları:\n",
    "\n",
    "     -Rəqəm növlərini təqlid etmək;\n",
    "     -Obyektlərin simli təsviri;\n",
    "     -Obyektin məntiqi dəyəri;\n",
    "     -Kolleksiyaların həyata keçirilməsi."
   ]
  },
  {
   "cell_type": "markdown",
   "metadata": {},
   "source": [
    "Sonraki bölümlerde, özel ürünlerin en önemli kullanımlarından bazılarını göreceğiz.\n",
    "yöntemler:\n",
    "\n",
    "     -Sayısal türlere öykünme;\n",
    "     - Nesnelerin dize temsili;\n",
    "     -Bir nesnenin Boole değeri;\n",
    "     - Koleksiyonların uygulanması."
   ]
  },
  {
   "cell_type": "markdown",
   "metadata": {},
   "source": [
    "Emulating Numeric Types"
   ]
  },
  {
   "cell_type": "code",
   "execution_count": 14,
   "metadata": {},
   "outputs": [],
   "source": [
    "import math\n",
    "\n",
    "class Vector:\n",
    "\n",
    "    def __init__(self, x=0, y=0) -> None:\n",
    "        self.x = x\n",
    "        self.y = y\n",
    "    \n",
    "    def __repr__(self) -> str:\n",
    "        return f'Vector({self.x!r}, {self.y!r})'\n",
    "\n",
    "    def __abs__(self):\n",
    "        return math.hypot(self.x, self.y)\n",
    "    \n",
    "    def __bool__(self):\n",
    "        return bool(abs(self))\n",
    "\n",
    "    def __add__(self, other):\n",
    "        x = self.x + other.x\n",
    "        y = self.y + other.y\n",
    "        return Vector(x, y)\n",
    "    \n",
    "    def __mul__(self, scaler):\n",
    "        return Vector(self.x * scaler, self.y * scaler)\n",
    "        "
   ]
  },
  {
   "cell_type": "code",
   "execution_count": 15,
   "metadata": {},
   "outputs": [
    {
     "data": {
      "text/plain": [
       "<__main__.Vector at 0x7f4e30084d00>"
      ]
     },
     "execution_count": 15,
     "metadata": {},
     "output_type": "execute_result"
    }
   ],
   "source": [
    "Vector(2,4) + Vector(1,5)"
   ]
  },
  {
   "cell_type": "code",
   "execution_count": 16,
   "metadata": {},
   "outputs": [
    {
     "data": {
      "text/plain": [
       "<__main__.Vector at 0x7f4e300894f0>"
      ]
     },
     "execution_count": 16,
     "metadata": {},
     "output_type": "execute_result"
    }
   ],
   "source": [
    "Vector(2,4)"
   ]
  },
  {
   "cell_type": "code",
   "execution_count": null,
   "metadata": {},
   "outputs": [],
   "source": []
  }
 ],
 "metadata": {
  "interpreter": {
   "hash": "058da3283177d11ba47c7a9741fd190d536a98edf1f5dc9b3e2a95ea4e430aba"
  },
  "kernelspec": {
   "display_name": "Python 3.8.11 64-bit ('venv': venv)",
   "language": "python",
   "name": "python3"
  },
  "language_info": {
   "codemirror_mode": {
    "name": "ipython",
    "version": 3
   },
   "file_extension": ".py",
   "mimetype": "text/x-python",
   "name": "python",
   "nbconvert_exporter": "python",
   "pygments_lexer": "ipython3",
   "version": "3.8.11"
  },
  "orig_nbformat": 4
 },
 "nbformat": 4,
 "nbformat_minor": 2
}
