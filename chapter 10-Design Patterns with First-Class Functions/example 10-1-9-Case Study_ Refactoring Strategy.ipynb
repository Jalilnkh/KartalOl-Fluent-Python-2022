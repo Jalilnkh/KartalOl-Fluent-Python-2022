{
 "cells": [
  {
   "cell_type": "markdown",
   "metadata": {},
   "source": [
    "Case Study: Refactoring Strategy"
   ]
  },
  {
   "cell_type": "markdown",
   "metadata": {},
   "source": [
    "Strategy is a good example of a design pattern that can be simpler in Python\n",
    "if you leverage functions as first-class objects."
   ]
  },
  {
   "cell_type": "markdown",
   "metadata": {},
   "source": [
    "Example 10-1. Implementation of the Order class with pluggable discount\n",
    "strategies."
   ]
  },
  {
   "cell_type": "code",
   "execution_count": 2,
   "metadata": {},
   "outputs": [],
   "source": [
    "from abc import ABC, abstractmethod\n",
    "from collections.abc import Sequence\n",
    "from decimal import Decimal\n",
    "from typing import NamedTuple, Optional, Callable\n",
    "\n",
    "class Customer(NamedTuple):\n",
    "    name: str\n",
    "    fidelity: int\n",
    "\n",
    "class LineItem(NamedTuple):\n",
    "    product: str\n",
    "    quantity: Decimal\n",
    "    price: Decimal\n",
    "\n",
    "    def total(self) -> Decimal:\n",
    "        return self.price * self.quantity\n",
    "\n",
    "class Order(NamedTuple):\n",
    "    customer: Customer\n",
    "    cart: Sequence[LineItem]\n",
    "    promotion: Optional['Promotion'] = None\n",
    "\n",
    "    def total(self) -> Decimal:\n",
    "        totals = (item.total() for item in self.cart)\n",
    "        return sum(totals, start=Decimal(0))\n",
    "    \n",
    "    def due(self) -> Decimal:\n",
    "        if self.promotion is None:\n",
    "            discount = Decimal(0)\n",
    "        else:\n",
    "            discount = self.promotion.discount(self)\n",
    "        return self.total() - discount\n",
    "    \n",
    "    def __repr__(self):\n",
    "        return f'<Order total: {self.total():.2f} due: {self.due():.2f}>'\n",
    "\n",
    "class Promotion(ABC):\n",
    "    @abstractmethod\n",
    "    def discount(self, order: Order) -> Decimal:\n",
    "        \"\"\"Return discount as a positive dollar amount\"\"\"\n",
    "    \n",
    "class FidelityPromo(Promotion):\n",
    "    \"\"\"5% discount for customers with 1000 or more fidelity points\"\"\"\n",
    "\n",
    "    def discount(self, order: Order) -> Decimal:\n",
    "        rate = Decimal('0.05')\n",
    "        if order.customer.fidelity >= 1000:\n",
    "            return order.total() * rate \n",
    "        return Decimal(0)\n",
    "    \n",
    "class BulkItemPromo(Promotion):\n",
    "    \"\"\"10% discount for each LineItem with 20 or more units\"\"\"\n",
    "\n",
    "    def discount(self, order: Order) -> Decimal:\n",
    "        discount = Decimal(0)\n",
    "        for item in order.cart:\n",
    "            if item.quantity >= 20:\n",
    "                discount += item.total() * Decimal('0.1')\n",
    "        return discount\n",
    "\n",
    "\n",
    "class LargeOrderPromo(Promotion): # third Concrete Strategy\n",
    "    \"\"\"7% discount for orders with 10 or more distinct items\"\"\"\n",
    "    \n",
    "    def discount(self, order: Order) -> Decimal:\n",
    "        distinct_items = {item.product for item in order.cart}\n",
    "        if len(distinct_items) >= 10:\n",
    "            return order.total() * Decimal('0.07')\n",
    "        return Decimal(0)"
   ]
  },
  {
   "cell_type": "code",
   "execution_count": 32,
   "metadata": {},
   "outputs": [
    {
     "data": {
      "text/plain": [
       "Customer(name='John Doe', fidelity=0)"
      ]
     },
     "execution_count": 32,
     "metadata": {},
     "output_type": "execute_result"
    }
   ],
   "source": [
    "joe = Customer('John Doe', 0)\n",
    "joe"
   ]
  },
  {
   "cell_type": "code",
   "execution_count": 33,
   "metadata": {},
   "outputs": [
    {
     "data": {
      "text/plain": [
       "Customer(name='Ann Smith', fidelity=1100)"
      ]
     },
     "execution_count": 33,
     "metadata": {},
     "output_type": "execute_result"
    }
   ],
   "source": [
    "\n",
    "ann = Customer('Ann Smith', 1100)\n",
    "ann"
   ]
  },
  {
   "cell_type": "code",
   "execution_count": 34,
   "metadata": {},
   "outputs": [],
   "source": [
    "\n",
    "cart = (LineItem('banana', 4, Decimal('.5')),\n",
    "        LineItem('apple', 10, Decimal('1.5')),\n",
    "        LineItem('watermelon', 5, Decimal(5)))"
   ]
  },
  {
   "cell_type": "code",
   "execution_count": 35,
   "metadata": {},
   "outputs": [
    {
     "data": {
      "text/plain": [
       "<Order total: 42.00 due: 42.00>"
      ]
     },
     "execution_count": 35,
     "metadata": {},
     "output_type": "execute_result"
    }
   ],
   "source": [
    "\n",
    "Order(joe, cart, FidelityPromo())"
   ]
  },
  {
   "cell_type": "code",
   "execution_count": 36,
   "metadata": {},
   "outputs": [
    {
     "data": {
      "text/plain": [
       "<Order total: 42.00 due: 39.90>"
      ]
     },
     "execution_count": 36,
     "metadata": {},
     "output_type": "execute_result"
    }
   ],
   "source": [
    "Order(ann, cart, FidelityPromo())"
   ]
  },
  {
   "cell_type": "markdown",
   "metadata": {},
   "source": [
    "Example 10-1 works perfectly well, but the same functionality can be\n",
    "implemented with less code in Python by using functions as objects. The\n",
    "next section shows how."
   ]
  },
  {
   "cell_type": "markdown",
   "metadata": {},
   "source": [
    "Example 10-3. Order class with discount strategies implemented as\n",
    "functions."
   ]
  },
  {
   "cell_type": "code",
   "execution_count": 3,
   "metadata": {},
   "outputs": [],
   "source": [
    "from dataclasses import dataclass\n",
    "\n",
    "@dataclass(frozen=True)\n",
    "class Order:\n",
    "    customer: Customer\n",
    "    cart: Sequence[LineItem]\n",
    "    promotion: Optional[Callable[['Order'], Decimal]] = None\n",
    "\n",
    "    def total(self) -> Decimal:\n",
    "        totals = (item.total() for item in self.cart)\n",
    "        return sum(totals, start=Decimal(0))\n",
    "\n",
    "    def due(self) -> Decimal:\n",
    "        if self.promotion is None:\n",
    "            discount = Decimal(0)\n",
    "        else:\n",
    "            discount = self.promotion(self)\n",
    "        return self.total() - discount\n",
    "\n",
    "    def __repr__(self):\n",
    "        return f'<Order total: {self.total():.2f} due:{self.due():.2f}>'\n",
    "\n",
    "def fidelity_promo(order: Order) -> Decimal:\n",
    "    \"\"\"5% discount for customers with 1000 or more fidelity\n",
    "        points\"\"\"\n",
    "    if order.customer.fidelity >= 1000:\n",
    "        return order.total() * Decimal('0.05')\n",
    "    return Decimal(0)\n",
    "\n",
    "def bulk_item_promo(order: Order) -> Decimal:\n",
    "    \"\"\"10% discount for each LineItem with 20 or more units\"\"\"\n",
    "    discount = Decimal(0)\n",
    "    for item in order.cart:\n",
    "        if item.quantity >= 20:\n",
    "            discount += item.total() * Decimal('0.1')\n",
    "    return discount\n",
    "\n",
    "def large_order_promo(order: Order) -> Decimal:\n",
    "    \"\"\"7% discount for orders with 10 or more distinct items\"\"\"\n",
    "    distinct_items = {item.product for item in order.cart}\n",
    "    if len(distinct_items) >= 10:\n",
    "        return order.total() * Decimal('0.07')\n",
    "    return Decimal(0)\n",
    "\n",
    "    "
   ]
  },
  {
   "cell_type": "markdown",
   "metadata": {},
   "source": [
    "Example 10-7 is a somewhat hackish way of using globals to help\n",
    "best_promo automatically find the other available *_promo functions.\n",
    "\n",
    "Example 10-7. The promos list is built by introspection of the module\n",
    "global namespace"
   ]
  },
  {
   "cell_type": "code",
   "execution_count": 4,
   "metadata": {},
   "outputs": [],
   "source": [
    "promos = [promo for name, promo in globals().items()\n",
    "            if name.endswith('_promo') and \n",
    "            name != 'best_promo']\n",
    "\n",
    "def best_promo(order: Order) -> Decimal:\n",
    "    return max(promo(order) for promo in promos)\n",
    "    "
   ]
  },
  {
   "cell_type": "code",
   "execution_count": 10,
   "metadata": {},
   "outputs": [
    {
     "data": {
      "text/plain": [
       "<Order total: 42.00 due:42.00>"
      ]
     },
     "execution_count": 10,
     "metadata": {},
     "output_type": "execute_result"
    }
   ],
   "source": [
    "joe = Customer('John Doe', 0)\n",
    "joe\n",
    "ann = Customer('Ann Smith', 1100)\n",
    "ann\n",
    "cart = (LineItem('banana', 4, Decimal('.5')),\n",
    "        LineItem('apple', 10, Decimal('1.5')),\n",
    "        LineItem('watermelon', 5, Decimal(5)))\n",
    "Order(joe, cart, best_promo)"
   ]
  },
  {
   "cell_type": "markdown",
   "metadata": {},
   "source": [
    "In Example 10-8, the only significant change is that the list of strategy\n",
    "functions is built by introspection of a separate module called\n",
    "promotions. Note that Example 10-8 depends on importing the\n",
    "promotions module as well as inspect, which provides high-level\n",
    "introspection functions.\n",
    "\n",
    "Example 10-8. The promos list is built by introspection of a new promotions\n",
    "module"
   ]
  },
  {
   "cell_type": "code",
   "execution_count": 12,
   "metadata": {},
   "outputs": [],
   "source": [
    "import inspect\n",
    "\n",
    "promos = [func for _, func in inspect.getmembers(Promotion, inspect.isfunction)]\n",
    "\n",
    "def best_promo(order: Order) -> Decimal:\n",
    "    return max(promo(order) for promo in promos) "
   ]
  },
  {
   "cell_type": "markdown",
   "metadata": {},
   "source": [
    "Decorator-Enhanced Strategy Pattern\n",
    "Recall that our main issue with Example 10-6 is the repetition of the\n",
    "function names in their definitions and then in the promos list used by the\n",
    "best_promo function to determine the highest discount applicable. The\n",
    "repetition is problematic because someone may add a new promotional\n",
    "strategy function and forget to manually add it to the promos list—in\n",
    "which case, best_promo will silently ignore the new strategy,\n",
    "introducing a subtle bug in the system. Example 10-9 solves this problem\n",
    "with the technique covered in “Registration decorators”.\n",
    "Example 10-9. The promos list is filled by the promotion decorator"
   ]
  },
  {
   "cell_type": "code",
   "execution_count": 5,
   "metadata": {},
   "outputs": [],
   "source": [
    "Promotion = Callable[[Order], Decimal]\n",
    "\n",
    "promos: list[Promotion] = []\n",
    "\n",
    "def promotion(promo: Promotion) -> Promotion:\n",
    "    promos.append(promo)\n",
    "    return promo\n",
    "\n",
    "def best_promo(order: Order) -> Decimal:\n",
    "    \"return compute the best discount available\"\n",
    "    return max(promo(order) for promo in promos)\n",
    "\n",
    "@promotion\n",
    "def fidelity(order: Order) -> Decimal:\n",
    "    \"\"\"5% discount for customer with 1000 or more fidelity points\"\"\"\n",
    "    if order.customer.fidelity >= 1000:\n",
    "        return order.total() * Decimal('0.05')\n",
    "    return Decimal(0)\n",
    "\n",
    "@promotion\n",
    "def bulk_item(order: Order) -> Decimal:\n",
    "    \"\"\"10% discount for each LineItem with 20 or more units\"\"\"\n",
    "    discount = Decimal(0)\n",
    "    for item in order.cart:\n",
    "        if item.quantity >= 20:\n",
    "            discount += item.total() * Decimal('0.1')\n",
    "    return discount\n",
    "\n",
    "@promotion\n",
    "def large_order(order: Order) -> Decimal:\n",
    "    \"\"\"7% discount for orders with 10 or more distinct items\"\"\"\n",
    "    distinct_items = {item.product for item in order.cart}\n",
    "    if len(distinct_items) >= 10:\n",
    "        return order.total() * Decimal('0.07')\n",
    "    return Decimal(0)\n"
   ]
  }
 ],
 "metadata": {
  "interpreter": {
   "hash": "f37e42b12bd1748322ce5a2251ca22602ec7c09e81e48cb8b4978f90cad86323"
  },
  "kernelspec": {
   "display_name": "Python 3.10.2 ('venv10': venv)",
   "language": "python",
   "name": "python3"
  },
  "language_info": {
   "codemirror_mode": {
    "name": "ipython",
    "version": 3
   },
   "file_extension": ".py",
   "mimetype": "text/x-python",
   "name": "python",
   "nbconvert_exporter": "python",
   "pygments_lexer": "ipython3",
   "version": "3.10.2"
  },
  "orig_nbformat": 4
 },
 "nbformat": 4,
 "nbformat_minor": 2
}
