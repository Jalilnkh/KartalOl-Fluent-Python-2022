{
 "cells": [
  {
   "cell_type": "markdown",
   "metadata": {},
   "source": [
    "Case Study: Refactoring Strategy"
   ]
  },
  {
   "cell_type": "markdown",
   "metadata": {},
   "source": [
    "Strategy is a good example of a design pattern that can be simpler in Python\n",
    "if you leverage functions as first-class objects."
   ]
  },
  {
   "cell_type": "markdown",
   "metadata": {},
   "source": [
    "Example 10-1. Implementation of the Order class with pluggable discount\n",
    "strategies."
   ]
  },
  {
   "cell_type": "code",
   "execution_count": 31,
   "metadata": {},
   "outputs": [],
   "source": [
    "from abc import ABC, abstractmethod\n",
    "from collections.abc import Sequence\n",
    "from decimal import Decimal\n",
    "from typing import NamedTuple, Optional\n",
    "\n",
    "class Customer(NamedTuple):\n",
    "    name: str\n",
    "    fidelity: int\n",
    "\n",
    "class LineItem(NamedTuple):\n",
    "    product: str\n",
    "    quantity: Decimal\n",
    "    price: Decimal\n",
    "\n",
    "    def total(self) -> Decimal:\n",
    "        return self.price * self.quantity\n",
    "\n",
    "class Order(NamedTuple):\n",
    "    customer: Customer\n",
    "    cart: Sequence[LineItem]\n",
    "    promotion: Optional['Promotion'] = None\n",
    "\n",
    "    def total(self) -> Decimal:\n",
    "        totals = (item.total() for item in self.cart)\n",
    "        return sum(totals, start=Decimal(0))\n",
    "    \n",
    "    def due(self) -> Decimal:\n",
    "        if self.promotion is None:\n",
    "            discount = Decimal(0)\n",
    "        else:\n",
    "            discount = self.promotion.discount(self)\n",
    "        return self.total() - discount\n",
    "    \n",
    "    def __repr__(self):\n",
    "        return f'<Order total: {self.total():.2f} due: {self.due():.2f}>'\n",
    "\n",
    "class Promotion(ABC):\n",
    "    @abstractmethod\n",
    "    def discount(self, order: Order) -> Decimal:\n",
    "        \"\"\"Return discount as a positive dollar amount\"\"\"\n",
    "    \n",
    "class FidelityPromo(Promotion):\n",
    "    \"\"\"5% discount for customers with 1000 or more fidelity points\"\"\"\n",
    "\n",
    "    def discount(self, order: Order) -> Decimal:\n",
    "        rate = Decimal('0.05')\n",
    "        if order.customer.fidelity >= 1000:\n",
    "            return order.total() * rate \n",
    "        return Decimal(0)\n",
    "    \n",
    "class BulkItemPromo(Promotion):\n",
    "    \"\"\"10% discount for each LineItem with 20 or more units\"\"\"\n",
    "\n",
    "    def discount(self, order: Order) -> Decimal:\n",
    "        discount = Decimal(0)\n",
    "        for item in order.cart:\n",
    "            if item.quantity >= 20:\n",
    "                discount += item.total() * Decimal('0.1')\n",
    "        return discount\n",
    "\n",
    "\n",
    "class LargeOrderPromo(Promotion): # third Concrete Strategy\n",
    "    \"\"\"7% discount for orders with 10 or more distinct items\"\"\"\n",
    "    \n",
    "    def discount(self, order: Order) -> Decimal:\n",
    "        distinct_items = {item.product for item in order.cart}\n",
    "        if len(distinct_items) >= 10:\n",
    "            return order.total() * Decimal('0.07')\n",
    "        return Decimal(0)"
   ]
  },
  {
   "cell_type": "code",
   "execution_count": 32,
   "metadata": {},
   "outputs": [
    {
     "data": {
      "text/plain": [
       "Customer(name='John Doe', fidelity=0)"
      ]
     },
     "execution_count": 32,
     "metadata": {},
     "output_type": "execute_result"
    }
   ],
   "source": [
    "joe = Customer('John Doe', 0)\n",
    "joe"
   ]
  },
  {
   "cell_type": "code",
   "execution_count": 33,
   "metadata": {},
   "outputs": [
    {
     "data": {
      "text/plain": [
       "Customer(name='Ann Smith', fidelity=1100)"
      ]
     },
     "execution_count": 33,
     "metadata": {},
     "output_type": "execute_result"
    }
   ],
   "source": [
    "ann = Customer('Ann Smith', 1100)\n",
    "ann"
   ]
  },
  {
   "cell_type": "code",
   "execution_count": 34,
   "metadata": {},
   "outputs": [],
   "source": [
    "cart = (LineItem('banana', 4, Decimal('.5')),\n",
    "        LineItem('apple', 10, Decimal('1.5')),\n",
    "        LineItem('watermelon', 5, Decimal(5)))"
   ]
  },
  {
   "cell_type": "code",
   "execution_count": 35,
   "metadata": {},
   "outputs": [
    {
     "data": {
      "text/plain": [
       "<Order total: 42.00 due: 42.00>"
      ]
     },
     "execution_count": 35,
     "metadata": {},
     "output_type": "execute_result"
    }
   ],
   "source": [
    "Order(joe, cart, FidelityPromo())"
   ]
  },
  {
   "cell_type": "code",
   "execution_count": 36,
   "metadata": {},
   "outputs": [
    {
     "data": {
      "text/plain": [
       "<Order total: 42.00 due: 39.90>"
      ]
     },
     "execution_count": 36,
     "metadata": {},
     "output_type": "execute_result"
    }
   ],
   "source": [
    "Order(ann, cart, FidelityPromo())"
   ]
  },
  {
   "cell_type": "markdown",
   "metadata": {},
   "source": [
    "Example 10-1 works perfectly well, but the same functionality can be\n",
    "implemented with less code in Python by using functions as objects. The\n",
    "next section shows how."
   ]
  }
 ],
 "metadata": {
  "interpreter": {
   "hash": "f37e42b12bd1748322ce5a2251ca22602ec7c09e81e48cb8b4978f90cad86323"
  },
  "kernelspec": {
   "display_name": "Python 3.10.2 ('venv10': venv)",
   "language": "python",
   "name": "python3"
  },
  "language_info": {
   "codemirror_mode": {
    "name": "ipython",
    "version": 3
   },
   "file_extension": ".py",
   "mimetype": "text/x-python",
   "name": "python",
   "nbconvert_exporter": "python",
   "pygments_lexer": "ipython3",
   "version": "3.10.2"
  },
  "orig_nbformat": 4
 },
 "nbformat": 4,
 "nbformat_minor": 2
}
