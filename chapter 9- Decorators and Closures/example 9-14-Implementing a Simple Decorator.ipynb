{
 "cells": [
  {
   "cell_type": "markdown",
   "metadata": {},
   "source": [
    "Example 9-14 is a decorator that clocks every invocation of the decorated\n",
    "function and displays the elapsed time, the arguments passed, and the result\n",
    "of the call.\n",
    "\n",
    "\n",
    "Example 9-14. clockdeco0.py: simple decorator to show the running\n",
    "time of functions"
   ]
  },
  {
   "cell_type": "code",
   "execution_count": 1,
   "metadata": {},
   "outputs": [],
   "source": [
    "import time\n",
    "\n",
    "def clock(func):\n",
    "    def clocked(*args):\n",
    "        t0 = time.perf_counter()\n",
    "        result = func(*args)\n",
    "        elapsed = time.perf_counter() - t0\n",
    "        name = func.__name__\n",
    "        arg_str = ', '.join(repr(arg) for arg in args)\n",
    "        print(f'[{elapsed:0.8f}s] {name} ({arg_str}) -> {result!r}')\n",
    "        return result\n",
    "    return clocked\n"
   ]
  },
  {
   "cell_type": "markdown",
   "metadata": {},
   "source": [
    "Example 9-15 demonstrates the use of the clock decorator.\n",
    "\n",
    "Example 9-15. Using the clock decorator"
   ]
  },
  {
   "cell_type": "code",
   "execution_count": 3,
   "metadata": {},
   "outputs": [
    {
     "name": "stdout",
     "output_type": "stream",
     "text": [
      "**************************************** Calling snooze(0.123)\n",
      "[0.12317640s] snooze (0.123) -> None\n",
      "**************************************** Calling factorial(6)\n",
      "[0.00000054s] factorial (1) -> 1\n",
      "[0.00002368s] factorial (2) -> 2\n",
      "[0.00004294s] factorial (3) -> 6\n",
      "[0.00006109s] factorial (4) -> 24\n",
      "[0.00007942s] factorial (5) -> 120\n",
      "[0.00009986s] factorial (6) -> 720\n",
      "6! = 720\n"
     ]
    }
   ],
   "source": [
    "import time\n",
    "\n",
    "@clock\n",
    "def snooze(seconds) -> None:\n",
    "    time.sleep(seconds)\n",
    "\n",
    "@clock\n",
    "def factorial(n) -> int:\n",
    "    return 1 if n < 2 else n*factorial(n-1)\n",
    "\n",
    "if __name__ == '__main__':\n",
    "    print('*' * 40, 'Calling snooze(0.123)')\n",
    "    snooze(.123)\n",
    "    print('*' * 40, 'Calling factorial(6)')\n",
    "    print('6! =', factorial(6))\n"
   ]
  },
  {
   "cell_type": "code",
   "execution_count": null,
   "metadata": {},
   "outputs": [],
   "source": []
  }
 ],
 "metadata": {
  "interpreter": {
   "hash": "f37e42b12bd1748322ce5a2251ca22602ec7c09e81e48cb8b4978f90cad86323"
  },
  "kernelspec": {
   "display_name": "Python 3.10.2 ('venv10': venv)",
   "language": "python",
   "name": "python3"
  },
  "language_info": {
   "codemirror_mode": {
    "name": "ipython",
    "version": 3
   },
   "file_extension": ".py",
   "mimetype": "text/x-python",
   "name": "python",
   "nbconvert_exporter": "python",
   "pygments_lexer": "ipython3",
   "version": "3.10.2"
  },
  "orig_nbformat": 4
 },
 "nbformat": 4,
 "nbformat_minor": 2
}
