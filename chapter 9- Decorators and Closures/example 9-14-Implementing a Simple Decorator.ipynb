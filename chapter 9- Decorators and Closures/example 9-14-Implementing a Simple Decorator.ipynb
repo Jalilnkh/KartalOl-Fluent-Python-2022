{
 "cells": [
  {
   "cell_type": "markdown",
   "metadata": {},
   "source": [
    "Example 9-14 is a decorator that clocks every invocation of the decorated\n",
    "function and displays the elapsed time, the arguments passed, and the result\n",
    "of the call.\n",
    "\n",
    "\n",
    "Example 9-14. clockdeco0.py: simple decorator to show the running\n",
    "time of functions"
   ]
  },
  {
   "cell_type": "code",
   "execution_count": null,
   "metadata": {},
   "outputs": [],
   "source": [
    "import time\n",
    "\n",
    "def clock(func):\n",
    "    def clocked(*args):\n",
    "        t0 = time.perf_counter()\n",
    "        result = func(*args)\n",
    "        elapsed = time.perf_counter() - t0\n",
    "        name = func.__name__\n",
    "        arg_str = ', '.join(repr(arg) for arg in args)\n",
    "        print(f'[{elapsed:0.8f}s] {name} ({arg_str}) -> {result!r}')\n",
    "        return result\n",
    "    return clocked\n"
   ]
  }
 ],
 "metadata": {
  "language_info": {
   "name": "python"
  },
  "orig_nbformat": 4
 },
 "nbformat": 4,
 "nbformat_minor": 2
}
