{
 "cells": [
  {
   "cell_type": "markdown",
   "metadata": {},
   "source": [
    "When parsing a decorator in source code, Python takes the decorated\n",
    "function and passes it as the first argument to the decorator function. So\n",
    "how do you make a decorator accept other arguments? The answer is: make\n",
    "a decorator factory that takes those arguments and returns a decorator,which is then applied to the function to be decorated."
   ]
  },
  {
   "cell_type": "markdown",
   "metadata": {},
   "source": [
    "Example 9-21. Abridged registration.py module from Example 9-2, repeated\n",
    "here for convenience"
   ]
  },
  {
   "cell_type": "code",
   "execution_count": 1,
   "metadata": {},
   "outputs": [
    {
     "name": "stdout",
     "output_type": "stream",
     "text": [
      "runninh register(<function f1 at 0x7f9a662ee830>)\n",
      "running main()\n",
      "registery -> [<function f1 at 0x7f9a662ee830>]\n",
      "running f1()\n"
     ]
    }
   ],
   "source": [
    "registery = []\n",
    "\n",
    "def register(func):\n",
    "    print(f'runninh register({func})')\n",
    "    registery.append(func)\n",
    "    return func\n",
    "\n",
    "@register\n",
    "def f1():\n",
    "    print('running f1()')\n",
    "\n",
    "print('running main()')\n",
    "print('registery ->', registery)\n",
    "f1()\n"
   ]
  },
  {
   "cell_type": "markdown",
   "metadata": {},
   "source": [
    "Example 9-22. To accept parameters, the new register decorator must be\n",
    "called as a function"
   ]
  },
  {
   "cell_type": "code",
   "execution_count": 6,
   "metadata": {},
   "outputs": [
    {
     "name": "stdout",
     "output_type": "stream",
     "text": [
      "running register(active=False)->decorate(<function f1 at 0x7f9a3fb19240>)\n",
      "running register(active=True)->decorate(<function f2 at 0x7f9a3fb19480>)\n"
     ]
    }
   ],
   "source": [
    "registery = set()\n",
    "\n",
    "def register(active=True):\n",
    "    def decorate(func):\n",
    "        print('running register'\n",
    "              f'(active={active})->decorate({func})')\n",
    "        if active:\n",
    "            registery.add(func)\n",
    "        else:\n",
    "            registery.discard(func)\n",
    "        return func\n",
    "    return decorate\n",
    "\n",
    "@register(active=False)\n",
    "def f1():\n",
    "    print('running f1()')\n",
    "\n",
    "@register()\n",
    "def f2():\n",
    "    print('running f2()')\n",
    "\n",
    "def f3():\n",
    "    print('running f3()')\n",
    "\n"
   ]
  },
  {
   "cell_type": "code",
   "execution_count": null,
   "metadata": {},
   "outputs": [],
   "source": []
  }
 ],
 "metadata": {
  "interpreter": {
   "hash": "f37e42b12bd1748322ce5a2251ca22602ec7c09e81e48cb8b4978f90cad86323"
  },
  "kernelspec": {
   "display_name": "Python 3.10.2 ('venv10': venv)",
   "language": "python",
   "name": "python3"
  },
  "language_info": {
   "codemirror_mode": {
    "name": "ipython",
    "version": 3
   },
   "file_extension": ".py",
   "mimetype": "text/x-python",
   "name": "python",
   "nbconvert_exporter": "python",
   "pygments_lexer": "ipython3",
   "version": "3.10.2"
  },
  "orig_nbformat": 4
 },
 "nbformat": 4,
 "nbformat_minor": 2
}
