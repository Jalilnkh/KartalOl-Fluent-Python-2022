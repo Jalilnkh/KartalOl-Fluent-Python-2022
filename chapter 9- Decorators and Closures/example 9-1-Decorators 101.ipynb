{
 "cells": [
  {
   "cell_type": "markdown",
   "metadata": {},
   "source": [
    "A decorator is a callable that takes another function as argument (the\n",
    "decorated function)."
   ]
  },
  {
   "cell_type": "code",
   "execution_count": null,
   "metadata": {},
   "outputs": [],
   "source": []
  }
 ],
 "metadata": {
  "language_info": {
   "name": "python"
  },
  "orig_nbformat": 4
 },
 "nbformat": 4,
 "nbformat_minor": 2
}
