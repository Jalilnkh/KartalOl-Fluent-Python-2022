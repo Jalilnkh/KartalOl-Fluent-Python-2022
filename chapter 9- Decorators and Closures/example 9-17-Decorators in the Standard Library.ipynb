{
 "cells": [
  {
   "cell_type": "markdown",
   "metadata": {},
   "source": [
    "The functools.cache decorator implements memoization: 5 an\n",
    "optimization technique that works by saving the results of previous\n",
    "invocations of an expensive function, avoiding repeat computations on\n",
    "previously used arguments."
   ]
  },
  {
   "cell_type": "markdown",
   "metadata": {},
   "source": [
    "Example 9-17. The very costly recursive way to compute the nth number in\n",
    "the Fibonacci series"
   ]
  },
  {
   "cell_type": "code",
   "execution_count": 1,
   "metadata": {},
   "outputs": [
    {
     "name": "stdout",
     "output_type": "stream",
     "text": [
      "[0.00000063s] fibonacci(0) -> 0\n",
      "[0.00000081s] fibonacci(1) -> 1\n",
      "[0.00010406s] fibonacci(2) -> 1\n",
      "[0.00000060s] fibonacci(1) -> 1\n",
      "[0.00000051s] fibonacci(0) -> 0\n",
      "[0.00000064s] fibonacci(1) -> 1\n",
      "[0.00006002s] fibonacci(2) -> 1\n",
      "[0.00011270s] fibonacci(3) -> 2\n",
      "[0.00027057s] fibonacci(4) -> 3\n",
      "[0.00000044s] fibonacci(1) -> 1\n",
      "[0.00000041s] fibonacci(0) -> 0\n",
      "[0.00000067s] fibonacci(1) -> 1\n",
      "[0.00006780s] fibonacci(2) -> 1\n",
      "[0.00011756s] fibonacci(3) -> 2\n",
      "[0.00000044s] fibonacci(0) -> 0\n",
      "[0.00000053s] fibonacci(1) -> 1\n",
      "[0.00005049s] fibonacci(2) -> 1\n",
      "[0.00000047s] fibonacci(1) -> 1\n",
      "[0.00000047s] fibonacci(0) -> 0\n",
      "[0.00000056s] fibonacci(1) -> 1\n",
      "[0.00005110s] fibonacci(2) -> 1\n",
      "[0.00009983s] fibonacci(3) -> 2\n",
      "[0.00019936s] fibonacci(4) -> 3\n",
      "[0.00038036s] fibonacci(5) -> 5\n",
      "[0.00070237s] fibonacci(6) -> 8\n",
      "8\n"
     ]
    }
   ],
   "source": [
    "from clockdeco import clock\n",
    "\n",
    "\n",
    "@clock\n",
    "def fibonacci(n):\n",
    "    if n < 2:\n",
    "        return n\n",
    "    return fibonacci(n - 2) + fibonacci(n - 1)\n",
    "\n",
    "if __name__ == '__main__':\n",
    "    print(fibonacci(6))"
   ]
  },
  {
   "cell_type": "markdown",
   "metadata": {},
   "source": [
    "Example 9-18. Faster implementation using caching"
   ]
  },
  {
   "cell_type": "code",
   "execution_count": 5,
   "metadata": {},
   "outputs": [
    {
     "name": "stdout",
     "output_type": "stream",
     "text": [
      "[0.00000070s] fast_fibonacci(0) -> 0\n",
      "[0.00000094s] fast_fibonacci(1) -> 1\n",
      "[0.00013731s] fast_fibonacci(2) -> 1\n",
      "[0.00000111s] fast_fibonacci(3) -> 2\n",
      "[0.00019896s] fast_fibonacci(4) -> 3\n",
      "[0.00000100s] fast_fibonacci(5) -> 5\n",
      "[0.00025733s] fast_fibonacci(6) -> 8\n",
      "8\n"
     ]
    }
   ],
   "source": [
    "import functools\n",
    "\n",
    "from clockdeco import clock\n",
    "\n",
    "@functools.cache\n",
    "@clock\n",
    "def fast_fibonacci(n):\n",
    "    if n < 2:\n",
    "        return n\n",
    "    return fast_fibonacci(n -2) + fast_fibonacci(n -1)\n",
    "\n",
    "if __name__ == '__main__':\n",
    "    print(fast_fibonacci(6))"
   ]
  },
  {
   "cell_type": "markdown",
   "metadata": {},
   "source": [
    "### Using lru_cache\n",
    "The functools.cache decorator is actually a simple wrapper around\n",
    "the older functools.lru_cache function, which is more flexible and\n",
    "compatible with Python 3.8 and earlier versions."
   ]
  },
  {
   "cell_type": "markdown",
   "metadata": {},
   "source": [
    "Single Dispatch Generic Functions"
   ]
  },
  {
   "cell_type": "markdown",
   "metadata": {},
   "source": [
    "Imagine we are creating a tool to debug web applications. We want to\n",
    "generate HTML displays for different types of Python objects."
   ]
  },
  {
   "cell_type": "code",
   "execution_count": null,
   "metadata": {},
   "outputs": [],
   "source": [
    "import html\n",
    "\n",
    "def htmlize(obj):\n",
    "    content"
   ]
  }
 ],
 "metadata": {
  "interpreter": {
   "hash": "f37e42b12bd1748322ce5a2251ca22602ec7c09e81e48cb8b4978f90cad86323"
  },
  "kernelspec": {
   "display_name": "Python 3.10.2 ('venv10': venv)",
   "language": "python",
   "name": "python3"
  },
  "language_info": {
   "codemirror_mode": {
    "name": "ipython",
    "version": 3
   },
   "file_extension": ".py",
   "mimetype": "text/x-python",
   "name": "python",
   "nbconvert_exporter": "python",
   "pygments_lexer": "ipython3",
   "version": "3.10.2"
  },
  "orig_nbformat": 4
 },
 "nbformat": 4,
 "nbformat_minor": 2
}
