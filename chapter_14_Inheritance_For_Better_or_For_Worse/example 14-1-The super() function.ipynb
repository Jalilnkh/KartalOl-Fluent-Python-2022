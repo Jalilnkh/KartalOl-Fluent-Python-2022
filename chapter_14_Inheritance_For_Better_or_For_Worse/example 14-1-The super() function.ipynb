{
 "cells": [
  {
   "cell_type": "markdown",
   "metadata": {},
   "source": [
    "### Get familiar with classes"
   ]
  },
  {
   "cell_type": "code",
   "execution_count": 1,
   "metadata": {},
   "outputs": [],
   "source": [
    "import sys\n",
    "sys.path.append('../')\n",
    "from person import Person, Female"
   ]
  },
  {
   "cell_type": "markdown",
   "metadata": {},
   "source": [
    "Lets learn about subclasses befor jump to super class"
   ]
  },
  {
   "cell_type": "code",
   "execution_count": 2,
   "metadata": {},
   "outputs": [
    {
     "data": {
      "text/plain": [
       "{'name': 'paria',\n",
       " 'surname': 'pasha',\n",
       " 'id': 15,\n",
       " 'age': None,\n",
       " 'sex': None,\n",
       " 'nationality': None,\n",
       " 'education': None,\n",
       " 'marriage_status': None,\n",
       " 'init_collery': None}"
      ]
     },
     "execution_count": 2,
     "metadata": {},
     "output_type": "execute_result"
    }
   ],
   "source": [
    "female1 = Female('paria', 'pasha', 15)\n",
    "female1.__dict__"
   ]
  },
  {
   "cell_type": "code",
   "execution_count": 13,
   "metadata": {},
   "outputs": [
    {
     "name": "stdout",
     "output_type": "stream",
     "text": [
      "Collery of food for preson             ('jalil', None)             should be up to             500\n"
     ]
    }
   ],
   "source": [
    "person = Person('jalil', init_collery=400)\n",
    "person.raise_food()"
   ]
  },
  {
   "cell_type": "markdown",
   "metadata": {},
   "source": [
    "### How to see class details"
   ]
  },
  {
   "cell_type": "code",
   "execution_count": 19,
   "metadata": {},
   "outputs": [
    {
     "name": "stdout",
     "output_type": "stream",
     "text": [
      "{'__module__': 'person', 'num_of_persons': 8, 'collery_amount': 60, '__init__': <function Person.__init__ at 0x7f51dc1311b0>, 'graduate': <function Person.graduate at 0x7f51dc1316c0>, 'work': <function Person.work at 0x7f51dc131480>, 'raise_food': <function Person.raise_food at 0x7f51dc131900>, 'set_collery_amount': <classmethod(<function Person.set_collery_amount at 0x7f51dc131240>)>, 'from_string': <classmethod(<function Person.from_string at 0x7f51dc131990>)>, 'is_old': <staticmethod(<function Person.is_old at 0x7f51dc131a20>)>, '__dict__': <attribute '__dict__' of 'Person' objects>, '__weakref__': <attribute '__weakref__' of 'Person' objects>, '__doc__': None}\n"
     ]
    }
   ],
   "source": [
    "print(Person.__dict__)"
   ]
  },
  {
   "cell_type": "markdown",
   "metadata": {},
   "source": [
    "### Instance Variables vs class variables"
   ]
  },
  {
   "cell_type": "code",
   "execution_count": 20,
   "metadata": {},
   "outputs": [
    {
     "name": "stdout",
     "output_type": "stream",
     "text": [
      "Collery of food for preson ('jalil2', None) should be up to 450\n"
     ]
    }
   ],
   "source": [
    "# if we want to give value out of class we should use self.collery_amount\n",
    "person1 = Person('jalil2', init_collery=400)\n",
    "person1.collery_amount = 50\n",
    "person1.raise_food()"
   ]
  },
  {
   "cell_type": "code",
   "execution_count": 21,
   "metadata": {},
   "outputs": [
    {
     "data": {
      "text/plain": [
       "9"
      ]
     },
     "execution_count": 21,
     "metadata": {},
     "output_type": "execute_result"
    }
   ],
   "source": [
    "Person.num_of_persons"
   ]
  },
  {
   "cell_type": "markdown",
   "metadata": {},
   "source": [
    "Class methods and Static methods"
   ]
  },
  {
   "cell_type": "code",
   "execution_count": 22,
   "metadata": {},
   "outputs": [],
   "source": [
    "# to take class as first argument we can use class methods\n",
    "Person.set_collery_amount(50)\n",
    "# or\n",
    "person1.set_collery_amount(60)"
   ]
  },
  {
   "cell_type": "code",
   "execution_count": 23,
   "metadata": {},
   "outputs": [
    {
     "name": "stdout",
     "output_type": "stream",
     "text": [
      "{'__module__': 'person', 'num_of_persons': 9, 'collery_amount': 60, '__init__': <function Person.__init__ at 0x7f51dc1311b0>, 'graduate': <function Person.graduate at 0x7f51dc1316c0>, 'work': <function Person.work at 0x7f51dc131480>, 'raise_food': <function Person.raise_food at 0x7f51dc131900>, 'set_collery_amount': <classmethod(<function Person.set_collery_amount at 0x7f51dc131240>)>, 'from_string': <classmethod(<function Person.from_string at 0x7f51dc131990>)>, 'is_old': <staticmethod(<function Person.is_old at 0x7f51dc131a20>)>, '__dict__': <attribute '__dict__' of 'Person' objects>, '__weakref__': <attribute '__weakref__' of 'Person' objects>, '__doc__': None}\n"
     ]
    }
   ],
   "source": [
    "print(Person.__dict__)"
   ]
  },
  {
   "cell_type": "markdown",
   "metadata": {},
   "source": [
    "Create function to act something that we need to do before creating instance"
   ]
  },
  {
   "cell_type": "code",
   "execution_count": 3,
   "metadata": {},
   "outputs": [
    {
     "data": {
      "text/plain": [
       "{'name': 'kartal',\n",
       " 'surname': 'pasha',\n",
       " 'id': '3242',\n",
       " 'age': None,\n",
       " 'sex': None,\n",
       " 'nationality': None,\n",
       " 'education': None,\n",
       " 'marriage_status': None,\n",
       " 'init_collery': None}"
      ]
     },
     "execution_count": 3,
     "metadata": {},
     "output_type": "execute_result"
    }
   ],
   "source": [
    "person2 = 'kartal-pasha-3242'\n",
    "new_pers = Person.from_string(person2)\n",
    "new_pers.__dict__"
   ]
  },
  {
   "cell_type": "markdown",
   "metadata": {},
   "source": [
    "Staticmethods dont pass anything automatically.\n",
    "They dont pass instances of the class\n"
   ]
  },
  {
   "cell_type": "code",
   "execution_count": 25,
   "metadata": {},
   "outputs": [
    {
     "data": {
      "text/plain": [
       "False"
      ]
     },
     "execution_count": 25,
     "metadata": {},
     "output_type": "execute_result"
    }
   ],
   "source": [
    "age = 70\n",
    "Person.is_old(35)"
   ]
  },
  {
   "cell_type": "markdown",
   "metadata": {},
   "source": [
    "If there is a wrong string strature an error will be raised."
   ]
  },
  {
   "cell_type": "code",
   "execution_count": 14,
   "metadata": {},
   "outputs": [
    {
     "ename": "Exception",
     "evalue": "Check strature of string!!                It should have exactly three parts example:                jabi-ami-35!!",
     "output_type": "error",
     "traceback": [
      "\u001b[0;31m---------------------------------------------------------------------------\u001b[0m",
      "\u001b[0;31mException\u001b[0m                                 Traceback (most recent call last)",
      "Cell \u001b[0;32mIn[14], line 1\u001b[0m\n\u001b[0;32m----> 1\u001b[0m jabi \u001b[38;5;241m=\u001b[39m \u001b[43mPerson\u001b[49m\u001b[38;5;241;43m.\u001b[39;49m\u001b[43mfrom_string\u001b[49m\u001b[43m(\u001b[49m\u001b[38;5;124;43m'\u001b[39;49m\u001b[38;5;124;43mJabi-ami\u001b[39;49m\u001b[38;5;124;43m'\u001b[39;49m\u001b[43m)\u001b[49m\n\u001b[1;32m      2\u001b[0m jabi\u001b[38;5;241m.\u001b[39m\u001b[38;5;18m__dict__\u001b[39m\n",
      "File \u001b[0;32m~/Desktop/2023/projects/projects/2023/KartalOl-Fluent-Python-2022/chapter 14-Inheritance: For Better or For Worse/person.py:48\u001b[0m, in \u001b[0;36mfrom_string\u001b[0;34m(cls, person_str)\u001b[0m\n\u001b[1;32m     43\u001b[0m \u001b[38;5;129m@classmethod\u001b[39m\n\u001b[1;32m     44\u001b[0m \u001b[38;5;28;01mdef\u001b[39;00m \u001b[38;5;21mset_collery_amount\u001b[39m(\u001b[38;5;28mcls\u001b[39m, amount):\n\u001b[1;32m     45\u001b[0m     \u001b[38;5;28mcls\u001b[39m\u001b[38;5;241m.\u001b[39mcollery_amount \u001b[38;5;241m=\u001b[39m amount\n\u001b[1;32m     47\u001b[0m \u001b[38;5;129m@classmethod\u001b[39m\n\u001b[0;32m---> 48\u001b[0m \u001b[38;5;28;01mdef\u001b[39;00m \u001b[38;5;21mfrom_string\u001b[39m(\u001b[38;5;28mcls\u001b[39m, person_str):\n\u001b[1;32m     49\u001b[0m     \u001b[38;5;28;01mif\u001b[39;00m \u001b[38;5;28mlen\u001b[39m(person_str\u001b[38;5;241m.\u001b[39msplit(\u001b[38;5;124m'\u001b[39m\u001b[38;5;124m-\u001b[39m\u001b[38;5;124m'\u001b[39m)) \u001b[38;5;241m!=\u001b[39m \u001b[38;5;241m3\u001b[39m:\n\u001b[1;32m     50\u001b[0m         \u001b[38;5;28;01mraise\u001b[39;00m \u001b[38;5;167;01mException\u001b[39;00m(\u001b[38;5;124mf\u001b[39m\u001b[38;5;124m'\u001b[39m\u001b[38;5;124mCheck strature of string!!\u001b[39m\u001b[38;5;130;01m\\\u001b[39;00m\n\u001b[1;32m     51\u001b[0m \u001b[38;5;124m            It should have exactly three parts example:\u001b[39m\u001b[38;5;130;01m\\\u001b[39;00m\n\u001b[1;32m     52\u001b[0m \u001b[38;5;124m            jabi-ami-35!!\u001b[39m\u001b[38;5;124m'\u001b[39m)\n",
      "\u001b[0;31mException\u001b[0m: Check strature of string!!                It should have exactly three parts example:                jabi-ami-35!!"
     ]
    }
   ],
   "source": [
    "jabi = Person.from_string('Jabi-ami')\n",
    "jabi.__dict__"
   ]
  },
  {
   "cell_type": "markdown",
   "metadata": {},
   "source": []
  },
  {
   "cell_type": "code",
   "execution_count": 2,
   "metadata": {},
   "outputs": [
    {
     "data": {
      "text/plain": [
       "{'name': 'kartal',\n",
       " 'surname': 'pasha',\n",
       " 'id': '3242',\n",
       " 'age': None,\n",
       " 'sex': None,\n",
       " 'nationality': None,\n",
       " 'education': None,\n",
       " 'marriage_status': None,\n",
       " 'init_collery': None}"
      ]
     },
     "execution_count": 2,
     "metadata": {},
     "output_type": "execute_result"
    }
   ],
   "source": [
    "person2 = 'kartal-pasha-3242'\n",
    "new_pers = Female.from_string(person2)\n",
    "new_pers.__dict__"
   ]
  },
  {
   "cell_type": "markdown",
   "metadata": {},
   "source": [
    "### The super() function"
   ]
  },
  {
   "cell_type": "code",
   "execution_count": 5,
   "metadata": {},
   "outputs": [],
   "source": [
    "# Check super() here inside the package\n",
    "from person import LastUpdateOrderedDict"
   ]
  },
  {
   "cell_type": "markdown",
   "metadata": {},
   "source": [
    "Subclassing Built-In Types Is Tricky"
   ]
  },
  {
   "cell_type": "markdown",
   "metadata": {},
   "source": [
    "Example 14-1. Our __setitem__ override is ignored by the __init__ and\n",
    "__update__ methods of the built-in dict"
   ]
  },
  {
   "cell_type": "code",
   "execution_count": 2,
   "metadata": {},
   "outputs": [
    {
     "data": {
      "text/plain": [
       "{'one': 1}"
      ]
     },
     "execution_count": 2,
     "metadata": {},
     "output_type": "execute_result"
    }
   ],
   "source": [
    "from person import DoppelDict\n",
    "\n",
    "dd = DoppelDict(one=1)\n",
    "dd"
   ]
  },
  {
   "cell_type": "code",
   "execution_count": 3,
   "metadata": {},
   "outputs": [
    {
     "data": {
      "text/plain": [
       "{'one': 1, 'two': [3, 3]}"
      ]
     },
     "execution_count": 3,
     "metadata": {},
     "output_type": "execute_result"
    }
   ],
   "source": [
    "dd['two'] = 3\n",
    "dd"
   ]
  },
  {
   "cell_type": "code",
   "execution_count": 8,
   "metadata": {},
   "outputs": [
    {
     "data": {
      "text/plain": [
       "4"
      ]
     },
     "execution_count": 8,
     "metadata": {},
     "output_type": "execute_result"
    }
   ],
   "source": [
    "dd.update(four=4)\n",
    "dd['four']"
   ]
  },
  {
   "cell_type": "markdown",
   "metadata": {},
   "source": [
    "Example 14-2. The __getitem__ of AnswerDict is bypassed by\n",
    "dict.update"
   ]
  },
  {
   "cell_type": "code",
   "execution_count": 1,
   "metadata": {},
   "outputs": [
    {
     "data": {
      "text/plain": [
       "{'a': 42}"
      ]
     },
     "execution_count": 1,
     "metadata": {},
     "output_type": "execute_result"
    }
   ],
   "source": [
    "from person import AnswerDict\n",
    "\n",
    "ad = AnswerDict(a='foo')\n",
    "ad"
   ]
  },
  {
   "cell_type": "code",
   "execution_count": 3,
   "metadata": {},
   "outputs": [
    {
     "data": {
      "text/plain": [
       "{'a': 42, 'er': 42}"
      ]
     },
     "execution_count": 3,
     "metadata": {},
     "output_type": "execute_result"
    }
   ],
   "source": [
    "ad['er'] = 4\n",
    "ad"
   ]
  },
  {
   "cell_type": "code",
   "execution_count": 5,
   "metadata": {},
   "outputs": [
    {
     "data": {
      "text/plain": [
       "{'a': 'foo', 'er': 4}"
      ]
     },
     "execution_count": 5,
     "metadata": {},
     "output_type": "execute_result"
    }
   ],
   "source": [
    "d = {}\n",
    "\n",
    "d.update(ad)\n",
    "d"
   ]
  },
  {
   "cell_type": "markdown",
   "metadata": {},
   "source": [
    "If you subclass collections.UserDict instead of dict, the issues\n",
    "exposed in Examples 14-1 and 14-2 are both fixed."
   ]
  },
  {
   "cell_type": "markdown",
   "metadata": {},
   "source": [
    "Example 14-3. DoppelDict2 and AnswerDict2 work as expected because\n",
    "they extend UserDict and not dict"
   ]
  },
  {
   "cell_type": "code",
   "execution_count": 6,
   "metadata": {},
   "outputs": [
    {
     "data": {
      "text/plain": [
       "42"
      ]
     },
     "execution_count": 6,
     "metadata": {},
     "output_type": "execute_result"
    }
   ],
   "source": [
    "from person import DoppelDict2, AnswerDict2\n",
    "\n",
    "ad = AnswerDict2(a='foo')\n",
    "ad['a']"
   ]
  },
  {
   "cell_type": "code",
   "execution_count": 3,
   "metadata": {},
   "outputs": [
    {
     "data": {
      "text/plain": [
       "{'a': ['foo', 'foo']}"
      ]
     },
     "execution_count": 3,
     "metadata": {},
     "output_type": "execute_result"
    }
   ],
   "source": [
    "da = DoppelDict2(a='foo')\n",
    "da"
   ]
  },
  {
   "cell_type": "code",
   "execution_count": null,
   "metadata": {},
   "outputs": [],
   "source": []
  },
  {
   "cell_type": "markdown",
   "metadata": {},
   "source": []
  }
 ],
 "metadata": {
  "kernelspec": {
   "display_name": "venv",
   "language": "python",
   "name": "python3"
  },
  "language_info": {
   "codemirror_mode": {
    "name": "ipython",
    "version": 3
   },
   "file_extension": ".py",
   "mimetype": "text/x-python",
   "name": "python",
   "nbconvert_exporter": "python",
   "pygments_lexer": "ipython3",
   "version": "3.10.12"
  }
 },
 "nbformat": 4,
 "nbformat_minor": 2
}
