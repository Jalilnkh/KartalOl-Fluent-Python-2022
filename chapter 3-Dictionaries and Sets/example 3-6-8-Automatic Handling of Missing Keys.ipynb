{
 "cells": [
  {
   "cell_type": "markdown",
   "metadata": {},
   "source": [
    "Sometimes it is convenient to have mappings that return some made-up value\n",
    "when a missing key is searched."
   ]
  },
  {
   "cell_type": "markdown",
   "metadata": {},
   "source": [
    "Example 3-6. index_default.py: using defaultdict instead of the\n",
    "setdefault method"
   ]
  },
  {
   "cell_type": "code",
   "execution_count": 8,
   "metadata": {},
   "outputs": [
    {
     "name": "stdout",
     "output_type": "stream",
     "text": [
      "/home/amber/Desktop/Projects/2022/learnPythonWithBook/KartalOl-Fluent-Python-2022\n",
      "0 [(1, 9), (1, 21), (1, 32), (2, 9), (2, 21), (2, 32), (3, 9), (3, 21), (3, 32), (4, 9), (4, 21), (4, 32), (5, 9), (5, 21), (5, 32), (6, 9), (6, 21), (6, 32), (7, 9), (7, 21), (7, 32), (8, 9), (8, 21), (8, 32), (9, 9), (9, 21), (9, 32), (10, 9), (10, 21), (10, 32), (11, 9), (11, 21), (11, 32), (12, 9), (12, 21), (12, 32), (13, 9), (13, 21), (13, 32), (14, 9), (14, 21), (14, 32), (15, 9), (15, 21), (15, 32), (16, 9), (16, 21), (16, 32), (17, 9), (17, 21), (17, 32), (18, 9), (18, 21), (18, 32), (19, 9), (19, 21), (19, 32), (20, 9), (20, 21), (20, 32), (21, 9), (21, 21), (21, 32), (22, 9), (22, 21), (22, 32), (23, 9), (23, 21), (23, 32), (24, 9), (24, 21), (24, 32), (25, 9), (25, 21), (25, 32), (26, 9), (26, 21), (26, 32), (27, 9), (27, 21), (27, 32), (28, 9), (28, 21), (28, 32), (29, 9), (29, 21), (29, 32), (30, 9), (30, 21), (30, 32), (31, 9), (31, 21), (31, 32), (32, 9), (32, 21), (32, 32), (33, 9), (33, 21), (33, 32), (34, 9), (34, 21), (34, 32), (35, 9), (35, 21), (35, 32), (36, 9), (36, 21), (36, 32), (37, 9), (37, 21), (37, 32), (38, 9), (38, 21), (38, 32), (39, 9), (39, 21), (39, 32), (40, 9), (40, 21), (40, 32), (41, 9), (41, 21), (41, 32), (42, 9), (42, 21), (42, 32), (43, 9), (43, 21), (43, 32)]\n",
      "058784 [(35, 11)]\n",
      "061723 [(8, 11)]\n",
      "064662 [(34, 11)]\n",
      "067602 [(9, 11), (12, 11), (33, 11), (40, 11)]\n",
      "070541 [(1, 11), (7, 11), (10, 11), (11, 11), (31, 11), (32, 11), (41, 11)]\n",
      "073480 [(2, 11), (13, 11), (17, 11), (18, 11), (26, 11), (27, 11), (29, 11), (30, 11)]\n",
      "076419 [(19, 11), (28, 11), (36, 11), (42, 11)]\n",
      "079358 [(6, 11), (14, 11), (16, 11), (20, 11), (25, 11), (39, 11), (43, 11)]\n",
      "082298 [(3, 11), (21, 11), (22, 11), (24, 11)]\n",
      "085237 [(15, 11), (23, 11)]\n",
      "088176 [(4, 11)]\n",
      "091115 [(5, 11)]\n",
      "094054 [(37, 11)]\n",
      "096993 [(38, 11)]\n",
      "14949 [(1, 1)]\n",
      "14950 [(2, 1)]\n",
      "14951 [(3, 1)]\n",
      "14952 [(4, 1)]\n",
      "14953 [(5, 1)]\n",
      "14954 [(6, 1)]\n",
      "14955 [(7, 1)]\n",
      "14956 [(8, 1)]\n",
      "14957 [(9, 1)]\n",
      "14958 [(10, 1)]\n",
      "14959 [(11, 1)]\n",
      "14960 [(12, 1)]\n",
      "14961 [(13, 1)]\n",
      "14962 [(14, 1)]\n",
      "14963 [(15, 1)]\n",
      "14964 [(16, 1)]\n",
      "14965 [(17, 1)]\n",
      "14966 [(18, 1)]\n",
      "14967 [(19, 1)]\n",
      "14968 [(20, 1)]\n",
      "14969 [(21, 1)]\n",
      "14970 [(22, 1)]\n",
      "14971 [(23, 1)]\n",
      "14972 [(24, 1)]\n",
      "14973 [(25, 1)]\n",
      "14974 [(26, 1)]\n",
      "14975 [(27, 1)]\n",
      "14976 [(28, 1)]\n",
      "14977 [(29, 1)]\n",
      "14978 [(30, 1)]\n",
      "14979 [(31, 1)]\n",
      "14980 [(32, 1)]\n",
      "14981 [(33, 1)]\n",
      "14982 [(34, 1)]\n",
      "14983 [(35, 1)]\n",
      "14984 [(36, 1)]\n",
      "14985 [(37, 1)]\n",
      "14986 [(38, 1)]\n",
      "14987 [(39, 1)]\n",
      "14988 [(40, 1)]\n",
      "14989 [(41, 1)]\n",
      "14990 [(42, 1)]\n",
      "14991 [(43, 1)]\n",
      "190727 [(8, 23), (9, 23), (10, 23), (11, 23), (37, 23)]\n",
      "193674 [(36, 23)]\n",
      "196620 [(38, 23)]\n",
      "199567 [(7, 23), (12, 23)]\n",
      "202514 [(6, 23), (13, 23), (16, 23), (17, 23)]\n",
      "205460 [(15, 23)]\n",
      "208407 [(14, 23), (18, 23), (30, 23), (31, 23)]\n",
      "211353 [(5, 23), (28, 23), (29, 23), (39, 23)]\n",
      "214300 [(19, 23), (32, 23), (35, 23)]\n",
      "217247 [(1, 23), (27, 23)]\n",
      "220193 [(20, 23), (34, 23)]\n",
      "223140 [(26, 23), (33, 23)]\n",
      "226086 [(4, 23), (40, 23)]\n",
      "229033 [(25, 23), (41, 23), (42, 23)]\n",
      "231980 [(21, 23)]\n",
      "234926 [(2, 23), (43, 23)]\n",
      "237873 [(24, 23)]\n",
      "240819 [(3, 23), (22, 23)]\n",
      "243766 [(23, 23)]\n"
     ]
    }
   ],
   "source": [
    "\"\"\"Build an index mapping word -> list of occurrences\"\"\"\n",
    "import collections\n",
    "from pathlib import Path \n",
    "import re\n",
    "path = Path().resolve().parents[0]\n",
    "\n",
    "WORD_RE = re.compile(r'\\w+')\n",
    "\n",
    "index = collections.defaultdict(list)\n",
    "with open(path/\"chapter 2-Part II. Data Structures/floats-10M-lines.txt\", encoding='utf-8') as fp:\n",
    "    for line_no, line in enumerate(fp, 1):\n",
    "        for match in WORD_RE.finditer(line):\n",
    "            word = match.group()\n",
    "            column_no = match.start() + 1\n",
    "            location = (line_no, column_no)\n",
    "            index[word].append(location)\n",
    "\n",
    "for word in sorted(index, key=str.upper):\n",
    "    print(word, index[word])\n",
    "    "
   ]
  },
  {
   "cell_type": "markdown",
   "metadata": {},
   "source": [
    "Example 3-8 implements a class StrKeyDict0 that passes the preceding\n",
    "doctests."
   ]
  },
  {
   "cell_type": "code",
   "execution_count": 11,
   "metadata": {},
   "outputs": [],
   "source": [
    "class StrKeyDict0(dict):\n",
    "\n",
    "    def __missing__(self, key):\n",
    "        if isinstance(key, str):\n",
    "            raise KeyError(key)\n",
    "        return self[str(key)]\n",
    "    \n",
    "    def get(self, key, default=None):\n",
    "        try:\n",
    "            return self[key]\n",
    "        except KeyError:\n",
    "            return default\n",
    "    \n",
    "    def __contains__(self, key: object) -> bool:\n",
    "        return key in self.keys() or str(key) in self.keys\n",
    "\n",
    "        "
   ]
  },
  {
   "cell_type": "markdown",
   "metadata": {},
   "source": [
    "Example 3-7. When searching for a nonstring key, StrKeyDict0 converts it to\n",
    "str when it is not found"
   ]
  },
  {
   "cell_type": "code",
   "execution_count": 13,
   "metadata": {},
   "outputs": [
    {
     "data": {
      "text/plain": [
       "'four'"
      ]
     },
     "execution_count": 13,
     "metadata": {},
     "output_type": "execute_result"
    }
   ],
   "source": [
    "d = StrKeyDict0([('2', 'two'), ('4', 'four')])\n",
    "d[4]"
   ]
  },
  {
   "cell_type": "code",
   "execution_count": 15,
   "metadata": {},
   "outputs": [
    {
     "data": {
      "text/plain": [
       "'two'"
      ]
     },
     "execution_count": 15,
     "metadata": {},
     "output_type": "execute_result"
    }
   ],
   "source": [
    "# Tests for item retrieval using `d.get(key)` notation::\n",
    "d.get('2')"
   ]
  },
  {
   "cell_type": "code",
   "execution_count": 16,
   "metadata": {},
   "outputs": [
    {
     "data": {
      "text/plain": [
       "'N/A'"
      ]
     },
     "execution_count": 16,
     "metadata": {},
     "output_type": "execute_result"
    }
   ],
   "source": [
    "d.get(1, 'N/A')"
   ]
  },
  {
   "cell_type": "code",
   "execution_count": null,
   "metadata": {},
   "outputs": [],
   "source": []
  }
 ],
 "metadata": {
  "interpreter": {
   "hash": "f37e42b12bd1748322ce5a2251ca22602ec7c09e81e48cb8b4978f90cad86323"
  },
  "kernelspec": {
   "display_name": "Python 3.10.1 64-bit ('venv10': venv)",
   "language": "python",
   "name": "python3"
  },
  "language_info": {
   "codemirror_mode": {
    "name": "ipython",
    "version": 3
   },
   "file_extension": ".py",
   "mimetype": "text/x-python",
   "name": "python",
   "nbconvert_exporter": "python",
   "pygments_lexer": "ipython3",
   "version": "3.10.2"
  },
  "orig_nbformat": 4
 },
 "nbformat": 4,
 "nbformat_minor": 2
}
