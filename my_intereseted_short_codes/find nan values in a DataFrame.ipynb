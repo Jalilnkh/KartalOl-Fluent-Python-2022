{
 "cells": [
  {
   "cell_type": "code",
   "execution_count": null,
   "metadata": {},
   "outputs": [],
   "source": [
    "listing_id[\"listing_id_2\"] = listing_id[\"listing_id_2\"].fillna(0)\n",
    "for i,val in enumerate(listing_id[\"listing_id_2\"]):\n",
    "    if val:\n",
    "        continue\n",
    "    else:\n",
    "        print(i)\n",
    "        print(listing_id[\"listing_id_1\"].iloc[i])\n",
    "\n",
    "return"
   ]
  }
 ],
 "metadata": {
  "language_info": {
   "name": "python"
  },
  "orig_nbformat": 4
 },
 "nbformat": 4,
 "nbformat_minor": 2
}
