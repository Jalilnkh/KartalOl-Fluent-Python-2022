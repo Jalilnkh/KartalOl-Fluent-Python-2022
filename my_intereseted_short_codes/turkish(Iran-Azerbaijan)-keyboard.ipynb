{
 "cells": [
  {
   "cell_type": "markdown",
   "metadata": {},
   "source": [
    "I thin code I am going to implement my mother tonque characters\n",
    "Because it is not just Arabic alphabet I need to extract some unicode for some letters or let say wowels: \n",
    "\n",
    "{\n",
    "        'a': 'آ',\n",
    "        'b': 'ب',\n",
    "        'c':'ج',\n",
    "        'ç':'چ',\n",
    "        'd':'د',\n",
    "        'e':'ئ',\n",
    "        'ə':'أ',\n",
    "        'f':'ف',\n",
    "        'g': 'گ',\n",
    "        'ğ': 'غ',\n",
    "        'h':'ح,‎ ه',\n",
    "        'x':'خ',\n",
    "        'ı':'ؽ',\n",
    "        'i': 'ی',\n",
    "        'j':'ژ',\n",
    "        'k':'ک',\n",
    "        'q':'ق',\n",
    "        'l':'ل',\n",
    "        'm':'م',\n",
    "        'n':'ن',\n",
    "        'o':'ۇ',\n",
    "        'ö':'ؤ',\n",
    "        'p':'پ',\n",
    "        'r':'ر',\n",
    "        's':'ث,‎ س,‎ ص',\n",
    "        'ş': 'ش',\n",
    "        't': 'ت,‎ ط',\n",
    "        'u': 'و',\n",
    "        'ü':'ۆ',\n",
    "        'v':'ۏ',\n",
    "        'y':'ی',\n",
    "        'z':'ذ,‎ ز,‎ ض,‎ ظ',\n",
    "        'w':'و'\n",
    "\n",
    "    }\n"
   ]
  },
  {
   "cell_type": "code",
   "execution_count": 14,
   "metadata": {},
   "outputs": [
    {
     "data": {
      "text/html": [
       "<div>\n",
       "<style scoped>\n",
       "    .dataframe tbody tr th:only-of-type {\n",
       "        vertical-align: middle;\n",
       "    }\n",
       "\n",
       "    .dataframe tbody tr th {\n",
       "        vertical-align: top;\n",
       "    }\n",
       "\n",
       "    .dataframe thead th {\n",
       "        text-align: right;\n",
       "    }\n",
       "</style>\n",
       "<table border=\"1\" class=\"dataframe\">\n",
       "  <thead>\n",
       "    <tr style=\"text-align: right;\">\n",
       "      <th></th>\n",
       "      <th>a</th>\n",
       "      <th>b</th>\n",
       "    </tr>\n",
       "  </thead>\n",
       "  <tbody>\n",
       "    <tr>\n",
       "      <th>0</th>\n",
       "      <td>آ</td>\n",
       "      <td>ب</td>\n",
       "    </tr>\n",
       "  </tbody>\n",
       "</table>\n",
       "</div>"
      ],
      "text/plain": [
       "   a  b\n",
       "0  آ  ب"
      ]
     },
     "execution_count": 14,
     "metadata": {},
     "output_type": "execute_result"
    }
   ],
   "source": [
    "# From lib/python3.7/string.py\n",
    "import pandas as pd\n",
    "dict_letters = pd.DataFrame({\n",
    "        'a': ['آ'],\n",
    "        'b': ['ب']\n",
    "        })\n",
    "\n",
    "\"\"\",\n",
    "        'c':'ج',\n",
    "        'ç':'چ',\n",
    "        'd':'د',\n",
    "        'e':'ئ',\n",
    "        'ə':'أ',\n",
    "        'f':'ف',\n",
    "        'g': 'گ',\n",
    "        'ğ': 'غ',\n",
    "        'h':'ح, ه',\n",
    "        'x':'خ',\n",
    "        'ı':'ؽ',\n",
    "        'i': 'ی',\n",
    "        'j':'ژ',\n",
    "        'k':'ک',\n",
    "        'q':'ق',\n",
    "        'l':'ل',\n",
    "        'm':'م',\n",
    "        'n':'ن',\n",
    "        'o':'ۇ',\n",
    "        'ö':'ؤ',\n",
    "        'p':'پ',\n",
    "        'r':'ر',\n",
    "        's':'ث, س, ص',\n",
    "        'ş': 'ش',\n",
    "        't': 'ت, ط',\n",
    "        'u': 'و',\n",
    "        'ü':'ۆ',\n",
    "        'v':'ۏ',\n",
    "        'y':'ی',\n",
    "        'z':'ذ, ز, ض, ظ',\n",
    "        'w':'و'\n",
    "\n",
    "    } )\"\"\"\n",
    "\n",
    "whitespace = ' \\t\\n\\r\\v\\f'\n",
    "ascii_lowercase = 'abcdefghijklmnopqrstuvwxyz'\n",
    "ascii_uppercase = 'ABCDEFGHIJKLMNOPQRSTUVWXYZ'\n",
    "ascii_letters = ascii_lowercase + ascii_uppercase\n",
    "digits = '0123456789'\n",
    "hexdigits = digits + 'abcdef' + 'ABCDEF'\n",
    "octdigits = '01234567'\n",
    "punctuation = r\"\"\"!\"#$%&'()*+,-./:;<=>?@[\\]^_`{|}~\"\"\"\n",
    "printable = digits + ascii_letters + punctuation + whitespace\n",
    "dict_letters"
   ]
  },
  {
   "cell_type": "code",
   "execution_count": 34,
   "metadata": {},
   "outputs": [
    {
     "data": {
      "text/plain": [
       "'آ'"
      ]
     },
     "execution_count": 34,
     "metadata": {},
     "output_type": "execute_result"
    }
   ],
   "source": [
    "dict_letters['a'].item()"
   ]
  },
  {
   "cell_type": "code",
   "execution_count": 50,
   "metadata": {},
   "outputs": [],
   "source": [
    "abc = str('مصطفى')"
   ]
  },
  {
   "cell_type": "code",
   "execution_count": 53,
   "metadata": {},
   "outputs": [
    {
     "ename": "AttributeError",
     "evalue": "'str' object has no attribute 'decode'",
     "output_type": "error",
     "traceback": [
      "\u001b[0;31m---------------------------------------------------------------------------\u001b[0m",
      "\u001b[0;31mAttributeError\u001b[0m                            Traceback (most recent call last)",
      "\u001b[0;32m/tmp/ipykernel_350821/3585164790.py\u001b[0m in \u001b[0;36m<module>\u001b[0;34m\u001b[0m\n\u001b[0;32m----> 1\u001b[0;31m \u001b[0mabc\u001b[0m\u001b[0;34m.\u001b[0m\u001b[0mdecode\u001b[0m\u001b[0;34m(\u001b[0m\u001b[0;34m'utf-8'\u001b[0m\u001b[0;34m)\u001b[0m\u001b[0;34m\u001b[0m\u001b[0;34m\u001b[0m\u001b[0m\n\u001b[0m",
      "\u001b[0;31mAttributeError\u001b[0m: 'str' object has no attribute 'decode'"
     ]
    }
   ],
   "source": [
    "abc.decode('utf-8')"
   ]
  },
  {
   "cell_type": "code",
   "execution_count": 40,
   "metadata": {},
   "outputs": [
    {
     "ename": "AttributeError",
     "evalue": "'str' object has no attribute 'decode'",
     "output_type": "error",
     "traceback": [
      "\u001b[0;31m---------------------------------------------------------------------------\u001b[0m",
      "\u001b[0;31mAttributeError\u001b[0m                            Traceback (most recent call last)",
      "\u001b[0;32m/tmp/ipykernel_350821/860780379.py\u001b[0m in \u001b[0;36m<module>\u001b[0;34m\u001b[0m\n\u001b[0;32m----> 1\u001b[0;31m \u001b[0mabc\u001b[0m\u001b[0;34m.\u001b[0m\u001b[0mdecode\u001b[0m\u001b[0;34m(\u001b[0m\u001b[0;34m'ascii'\u001b[0m\u001b[0;34m)\u001b[0m\u001b[0;34m\u001b[0m\u001b[0;34m\u001b[0m\u001b[0m\n\u001b[0m",
      "\u001b[0;31mAttributeError\u001b[0m: 'str' object has no attribute 'decode'"
     ]
    }
   ],
   "source": [
    "abc.decode('ascii')"
   ]
  },
  {
   "cell_type": "code",
   "execution_count": 10,
   "metadata": {},
   "outputs": [
    {
     "ename": "AttributeError",
     "evalue": "'str' object has no attribute 'item'",
     "output_type": "error",
     "traceback": [
      "\u001b[0;31m---------------------------------------------------------------------------\u001b[0m",
      "\u001b[0;31mAttributeError\u001b[0m                            Traceback (most recent call last)",
      "\u001b[0;32m/tmp/ipykernel_350821/869012638.py\u001b[0m in \u001b[0;36m<module>\u001b[0;34m\u001b[0m\n\u001b[0;32m----> 1\u001b[0;31m \u001b[0mdict_letters\u001b[0m\u001b[0;34m[\u001b[0m\u001b[0;34m'a'\u001b[0m\u001b[0;34m]\u001b[0m\u001b[0;34m.\u001b[0m\u001b[0mitem\u001b[0m\u001b[0;34m(\u001b[0m\u001b[0;34m)\u001b[0m\u001b[0;34m\u001b[0m\u001b[0;34m\u001b[0m\u001b[0m\n\u001b[0m",
      "\u001b[0;31mAttributeError\u001b[0m: 'str' object has no attribute 'item'"
     ]
    }
   ],
   "source": [
    "dict_letters['a'].item()"
   ]
  },
  {
   "cell_type": "code",
   "execution_count": null,
   "metadata": {},
   "outputs": [],
   "source": []
  }
 ],
 "metadata": {
  "interpreter": {
   "hash": "f37e42b12bd1748322ce5a2251ca22602ec7c09e81e48cb8b4978f90cad86323"
  },
  "kernelspec": {
   "display_name": "Python 3.10.2 64-bit ('venv10': venv)",
   "language": "python",
   "name": "python3"
  },
  "language_info": {
   "codemirror_mode": {
    "name": "ipython",
    "version": 3
   },
   "file_extension": ".py",
   "mimetype": "text/x-python",
   "name": "python",
   "nbconvert_exporter": "python",
   "pygments_lexer": "ipython3",
   "version": "3.10.2"
  },
  "orig_nbformat": 4
 },
 "nbformat": 4,
 "nbformat_minor": 2
}
