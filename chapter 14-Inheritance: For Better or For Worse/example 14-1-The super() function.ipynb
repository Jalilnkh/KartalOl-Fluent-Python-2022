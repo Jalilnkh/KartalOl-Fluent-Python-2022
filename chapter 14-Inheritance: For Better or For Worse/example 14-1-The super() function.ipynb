{
 "cells": [
  {
   "cell_type": "code",
   "execution_count": 1,
   "metadata": {},
   "outputs": [],
   "source": [
    "import sys\n",
    "sys.path.append('../')\n",
    "from person import Person, Female"
   ]
  },
  {
   "cell_type": "markdown",
   "metadata": {},
   "source": [
    "Lets learn about subclasses befor jump to super class"
   ]
  },
  {
   "cell_type": "code",
   "execution_count": 2,
   "metadata": {},
   "outputs": [
    {
     "data": {
      "text/plain": [
       "{'name': 'paria',\n",
       " 'surname': 'pasha',\n",
       " 'id': 15,\n",
       " 'age': None,\n",
       " 'sex': None,\n",
       " 'nationality': None,\n",
       " 'education': None,\n",
       " 'marriage_status': None,\n",
       " 'init_collery': None}"
      ]
     },
     "execution_count": 2,
     "metadata": {},
     "output_type": "execute_result"
    }
   ],
   "source": [
    "female1 = Female('paria', 'pasha', 15)\n",
    "female1.__dict__"
   ]
  },
  {
   "cell_type": "code",
   "execution_count": 2,
   "metadata": {},
   "outputs": [
    {
     "name": "stdout",
     "output_type": "stream",
     "text": [
      "Collery of food for preson ('jalil', None) should be up to 500\n"
     ]
    }
   ],
   "source": [
    "person = Person('jalil', init_collery=400)\n",
    "person.raise_food()"
   ]
  },
  {
   "cell_type": "markdown",
   "metadata": {},
   "source": [
    "### How to see class details"
   ]
  },
  {
   "cell_type": "code",
   "execution_count": 3,
   "metadata": {},
   "outputs": [
    {
     "name": "stdout",
     "output_type": "stream",
     "text": [
      "{'__module__': 'person', 'num_of_persons': 1, 'collery_amount': 100, '__init__': <function Person.__init__ at 0x7feca86216c0>, 'graduate': <function Person.graduate at 0x7feca86212d0>, 'work': <function Person.work at 0x7feca8621360>, 'raise_food': <function Person.raise_food at 0x7feca8621630>, 'set_collery_amount': <classmethod(<function Person.set_collery_amount at 0x7feca8621870>)>, '__dict__': <attribute '__dict__' of 'Person' objects>, '__weakref__': <attribute '__weakref__' of 'Person' objects>, '__doc__': None}\n"
     ]
    }
   ],
   "source": [
    "print(Person.__dict__)"
   ]
  },
  {
   "cell_type": "markdown",
   "metadata": {},
   "source": [
    "### Instance Variables vs class variables"
   ]
  },
  {
   "cell_type": "code",
   "execution_count": 4,
   "metadata": {},
   "outputs": [
    {
     "name": "stdout",
     "output_type": "stream",
     "text": [
      "Collery of food for preson ('jalil2', None) should be up to 450\n"
     ]
    }
   ],
   "source": [
    "# if we want to give value out of class we should use self.collery_amount\n",
    "person1 = Person('jalil2', init_collery=400)\n",
    "person1.collery_amount = 50\n",
    "person1.raise_food()"
   ]
  },
  {
   "cell_type": "code",
   "execution_count": 5,
   "metadata": {},
   "outputs": [
    {
     "data": {
      "text/plain": [
       "2"
      ]
     },
     "execution_count": 5,
     "metadata": {},
     "output_type": "execute_result"
    }
   ],
   "source": [
    "Person.num_of_persons"
   ]
  },
  {
   "cell_type": "markdown",
   "metadata": {},
   "source": [
    "Class methods and Static methods"
   ]
  },
  {
   "cell_type": "code",
   "execution_count": 10,
   "metadata": {},
   "outputs": [],
   "source": [
    "# to take class as first argument we can use class methods\n",
    "Person.set_collery_amount(50)\n",
    "# or\n",
    "person1.set_collery_amount(60)"
   ]
  },
  {
   "cell_type": "code",
   "execution_count": 5,
   "metadata": {},
   "outputs": [
    {
     "name": "stdout",
     "output_type": "stream",
     "text": [
      "{'__module__': 'person', 'num_of_persons': 2, 'collery_amount': 100, '__init__': <function Person.__init__ at 0x7fb3d670d6c0>, 'graduate': <function Person.graduate at 0x7fb3d670d630>, 'work': <function Person.work at 0x7fb3d670d750>, 'raise_food': <function Person.raise_food at 0x7fb3d670db40>, 'set_collery_amount': <classmethod(<function Person.set_collery_amount at 0x7fb3d670d7e0>)>, 'from_string': <classmethod(<function Person.from_string at 0x7fb3d670dbd0>)>, '__dict__': <attribute '__dict__' of 'Person' objects>, '__weakref__': <attribute '__weakref__' of 'Person' objects>, '__doc__': None}\n"
     ]
    }
   ],
   "source": [
    "print(Person.__dict__)"
   ]
  },
  {
   "cell_type": "markdown",
   "metadata": {},
   "source": [
    "Create function to act something that we need to do before creating instance"
   ]
  },
  {
   "cell_type": "code",
   "execution_count": 4,
   "metadata": {},
   "outputs": [
    {
     "data": {
      "text/plain": [
       "{'name': 'kartal',\n",
       " 'surname': 'pasha',\n",
       " 'id': '3242',\n",
       " 'age': None,\n",
       " 'sex': None,\n",
       " 'nationality': None,\n",
       " 'education': None,\n",
       " 'marriage_status': None,\n",
       " 'init_collery': None}"
      ]
     },
     "execution_count": 4,
     "metadata": {},
     "output_type": "execute_result"
    }
   ],
   "source": [
    "person2 = 'kartal-pasha-3242'\n",
    "new_pers = Person.from_string(person2)\n",
    "new_pers.__dict__"
   ]
  },
  {
   "cell_type": "markdown",
   "metadata": {},
   "source": [
    "Staticmethods dont pass anything automatically.\n",
    "They dont pass instances of the class\n"
   ]
  },
  {
   "cell_type": "code",
   "execution_count": 3,
   "metadata": {},
   "outputs": [
    {
     "data": {
      "text/plain": [
       "True"
      ]
     },
     "execution_count": 3,
     "metadata": {},
     "output_type": "execute_result"
    }
   ],
   "source": [
    "age = 70\n",
    "Person.is_old(age)"
   ]
  },
  {
   "cell_type": "markdown",
   "metadata": {},
   "source": []
  },
  {
   "cell_type": "code",
   "execution_count": null,
   "metadata": {},
   "outputs": [],
   "source": []
  }
 ],
 "metadata": {
  "kernelspec": {
   "display_name": "venv",
   "language": "python",
   "name": "python3"
  },
  "language_info": {
   "codemirror_mode": {
    "name": "ipython",
    "version": 3
   },
   "file_extension": ".py",
   "mimetype": "text/x-python",
   "name": "python",
   "nbconvert_exporter": "python",
   "pygments_lexer": "ipython3",
   "version": "3.10.12"
  }
 },
 "nbformat": 4,
 "nbformat_minor": 2
}
