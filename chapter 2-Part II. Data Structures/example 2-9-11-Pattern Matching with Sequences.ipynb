{
 "cells": [
  {
   "cell_type": "markdown",
   "metadata": {},
   "source": [
    "# Pattern Matching with Sequences\n",
    "\n",
    "\n",
    "The most visible new feature in Python 3.10 is pattern matching with the\n",
    "match/case statement"
   ]
  },
  {
   "cell_type": "code",
   "execution_count": 2,
   "metadata": {},
   "outputs": [],
   "source": [
    "metro_areas = [\n",
    "('Ardabil', 'IR', 36.933, (35.689722, 139.691667)),\n",
    "('Tabriz', 'IR', 21.935, (28.613889, 77.208889)),\n",
    "('Istanbul', 'TR', 20.142, (19.433333, -99.133333)),\n",
    "('Baku', 'AZ', 20.104, (40.808611, -74.020386)),\n",
    "('Gharabagh', 'AZ', 19.649, (-23.547778, -46.635833)),\n",
    "]"
   ]
  },
  {
   "cell_type": "code",
   "execution_count": 4,
   "metadata": {},
   "outputs": [],
   "source": [
    "def main():\n",
    "    print(f'{\"\":15} | {\"latitude\":>9} | {\"longitude\":>9}')\n",
    "    for record in metro_areas:\n",
    "        match record:\n",
    "            case [name, _, _, (lat, lon)] if lon <= 0:\n",
    "                print(f'{name:15} | {lat:9.4f} | {lon:9.4f}')"
   ]
  },
  {
   "cell_type": "code",
   "execution_count": 5,
   "metadata": {},
   "outputs": [
    {
     "name": "stdout",
     "output_type": "stream",
     "text": [
      "                |  latitude | longitude\n",
      "Istanbul        |   19.4333 |  -99.1333\n",
      "Baku            |   40.8086 |  -74.0204\n",
      "Gharabagh       |  -23.5478 |  -46.6358\n"
     ]
    }
   ],
   "source": [
    "main()"
   ]
  },
  {
   "cell_type": "markdown",
   "metadata": {},
   "source": [
    "Example 2-10. Matching patterns without match/case."
   ]
  },
  {
   "cell_type": "markdown",
   "metadata": {},
   "source": [
    "This is a example code which may not run"
   ]
  },
  {
   "cell_type": "code",
   "execution_count": null,
   "metadata": {},
   "outputs": [],
   "source": [
    "def evaluate(x, env):\n",
    "    \"Evaluate an expression in an environment.\"\n",
    "    if ...:\n",
    "        ...\n",
    "    elif x[0] == 'quote':\n",
    "        (_, exp) = x\n",
    "        return\n",
    "    elif x[0] == 'if':\n",
    "        (_, test, consequence, alternative) = x\n",
    "        if evaluate(test, env):\n",
    "            return evaluate(consequence, env)\n",
    "        else:\n",
    "            return evaluate(alternative, env)\n",
    "    elif x[0] == 'define':\n",
    "        (_, name, exp) = x\n",
    "        env[name] = evaluate(exp, env)\n",
    "    elif x[0] == 'lambda':\n",
    "        (_, parms, *body) = x\n",
    "        return Procedure(parms, body, env)\n",
    "    \n",
    "    \n"
   ]
  },
  {
   "cell_type": "markdown",
   "metadata": {},
   "source": [
    "Example 2-11. Pattern matching with match/case—requires Python ≥\n",
    "3.10."
   ]
  },
  {
   "cell_type": "code",
   "execution_count": null,
   "metadata": {},
   "outputs": [],
   "source": [
    "def evaluate(exp, env):\n",
    "    \"Evaluate an expression in an environment.\"\n",
    "    match exp:\n",
    "        case ...:\n",
    "            ...\n",
    "        case ['qoute', exp]:\n",
    "            return exp\n",
    "        case ['if', test, consequence, alternative]:\n",
    "            if evaluate(test, env):\n",
    "                return evaluate(consequence, env)\n",
    "            else:\n",
    "                return evaluate(alternative, env)\n",
    "        case ['define', Symbol(name), exp]:\n",
    "            env[name] = evaluate(exp, env)\n",
    "        case ['lambda', parms, *body] if body:\n",
    "            return Procedure(parms, body, env)\n",
    "        case _:\n",
    "            raise SyntaxError(repr(exp))\n",
    "            "
   ]
  }
 ],
 "metadata": {
  "interpreter": {
   "hash": "058da3283177d11ba47c7a9741fd190d536a98edf1f5dc9b3e2a95ea4e430aba"
  },
  "kernelspec": {
   "display_name": "Python 3.8.11 64-bit ('venv': venv)",
   "language": "python",
   "name": "python3"
  },
  "language_info": {
   "codemirror_mode": {
    "name": "ipython",
    "version": 3
   },
   "file_extension": ".py",
   "mimetype": "text/x-python",
   "name": "python",
   "nbconvert_exporter": "python",
   "pygments_lexer": "ipython3",
   "version": "3.10.1"
  },
  "orig_nbformat": 4
 },
 "nbformat": 4,
 "nbformat_minor": 2
}
