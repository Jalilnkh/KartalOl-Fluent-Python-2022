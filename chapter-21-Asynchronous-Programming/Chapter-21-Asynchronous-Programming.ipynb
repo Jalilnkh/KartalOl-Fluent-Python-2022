{
 "cells": [
  {
   "cell_type": "markdown",
   "metadata": {},
   "source": [
    "# Chapter 21. Asynchronous Programming"
   ]
  },
  {
   "cell_type": "markdown",
   "metadata": {},
   "source": [
    "This chapter addresses three major topics that are closely related:\n",
    "\n",
    "• Python’s async def, await, async with, and async for constructs\n",
    "\n",
    "• Objects supporting those constructs: native coroutines and asynchronous variants of context managers, iterables, generators, and comprehensions\n",
    "\n",
    "• asyncio and other asynchronous libraries"
   ]
  },
  {
   "cell_type": "markdown",
   "metadata": {},
   "source": [
    "### An asyncio Example: Probing Domains"
   ]
  },
  {
   "cell_type": "markdown",
   "metadata": {},
   "source": [
    "Imagine you are about to start a new blog on Python, and you plan to register a\n",
    "domain using a Python keyword and the .DEV.\n",
    "\n",
    "Example 21-1. blogdom.py: search for domains for a Python blog"
   ]
  },
  {
   "cell_type": "code",
   "execution_count": null,
   "metadata": {},
   "outputs": [],
   "source": []
  }
 ],
 "metadata": {
  "language_info": {
   "name": "python"
  }
 },
 "nbformat": 4,
 "nbformat_minor": 2
}
