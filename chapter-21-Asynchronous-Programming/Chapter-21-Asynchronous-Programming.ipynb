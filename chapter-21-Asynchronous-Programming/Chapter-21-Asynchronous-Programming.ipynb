{
 "cells": [
  {
   "cell_type": "markdown",
   "metadata": {},
   "source": [
    "# Chapter 21. Asynchronous Programming"
   ]
  },
  {
   "cell_type": "markdown",
   "metadata": {},
   "source": [
    "This chapter addresses three major topics that are closely related:\n",
    "\n",
    "• Python’s async def, await, async with, and async for constructs\n",
    "\n",
    "• Objects supporting those constructs: native coroutines and asynchronous variants of context managers, iterables, generators, and comprehensions\n",
    "\n",
    "• asyncio and other asynchronous libraries"
   ]
  },
  {
   "cell_type": "markdown",
   "metadata": {},
   "source": [
    "### An asyncio Example: Probing Domains"
   ]
  },
  {
   "cell_type": "markdown",
   "metadata": {},
   "source": [
    "Imagine you are about to start a new blog on Python, and you plan to register a\n",
    "domain using a Python keyword and the .DEV.\n",
    "\n",
    "Example 21-1. blogdom.py: search for domains for a Python blog"
   ]
  },
  {
   "cell_type": "code",
   "execution_count": null,
   "metadata": {},
   "outputs": [],
   "source": []
  },
  {
   "cell_type": "markdown",
   "metadata": {},
   "source": [
    "How coroutine works?"
   ]
  },
  {
   "cell_type": "code",
   "execution_count": 6,
   "metadata": {},
   "outputs": [],
   "source": [
    "def print_name(prefix): \n",
    "    print(\"Searching prefix:{}\".format(prefix)) \n",
    "    try:  \n",
    "        while True: \n",
    "            name = (yield) \n",
    "            if prefix in name: \n",
    "                print(name) \n",
    "    except GeneratorExit: \n",
    "        print(\"Closing coroutine!!\") \n"
   ]
  },
  {
   "cell_type": "code",
   "execution_count": 7,
   "metadata": {},
   "outputs": [
    {
     "name": "stdout",
     "output_type": "stream",
     "text": [
      "Searching prefix:Dear\n",
      "Dear Atul\n"
     ]
    }
   ],
   "source": [
    "# calling coroutine, nothing will happen \n",
    "corou = print_name(\"Dear\") \n",
    "# This will start execution of coroutine and  \n",
    "# Prints first line \"Searching prefix...\" \n",
    "# and advance execution to the first yield expression \n",
    "corou.__next__() \n",
    "  \n",
    "# sending inputs \n",
    "corou.send(\"Atul\") \n",
    "corou.send(\"Dear Atul\") "
   ]
  },
  {
   "cell_type": "code",
   "execution_count": 8,
   "metadata": {},
   "outputs": [
    {
     "name": "stdout",
     "output_type": "stream",
     "text": [
      "Closing coroutine!!\n"
     ]
    }
   ],
   "source": [
    "corou.close() "
   ]
  },
  {
   "cell_type": "markdown",
   "metadata": {},
   "source": [
    "Example 21-2. flags_asyncio.py: startup functions"
   ]
  },
  {
   "cell_type": "code",
   "execution_count": null,
   "metadata": {},
   "outputs": [],
   "source": []
  },
  {
   "cell_type": "markdown",
   "metadata": {},
   "source": [
    "Asynchronous comprehensions"
   ]
  },
  {
   "cell_type": "code",
   "execution_count": 5,
   "metadata": {},
   "outputs": [],
   "source": [
    "import asyncio\n",
    "import socket\n",
    "names = 'python.org rust-lang.org golang.org no-lang.invalid'.split()"
   ]
  },
  {
   "cell_type": "code",
   "execution_count": 6,
   "metadata": {},
   "outputs": [],
   "source": [
    "async def probe(domain: str) -> tuple[str, bool]:\n",
    "    loop = asyncio.get_running_loop()\n",
    "    try:\n",
    "        await loop.getaddrinfo(domain, None)\n",
    "    except socket.gaierror:\n",
    "        return (domain, False)\n",
    "    return (domain, True)"
   ]
  },
  {
   "cell_type": "code",
   "execution_count": 7,
   "metadata": {},
   "outputs": [
    {
     "data": {
      "text/plain": [
       "[('golang.org', False),\n",
       " ('no-lang.invalid', False),\n",
       " ('python.org', False),\n",
       " ('rust-lang.org', False)]"
      ]
     },
     "execution_count": 7,
     "metadata": {},
     "output_type": "execute_result"
    }
   ],
   "source": [
    "names = sorted(names)\n",
    "coros = [probe(name) for name in names]\n",
    "await asyncio.gather(*coros)"
   ]
  },
  {
   "cell_type": "code",
   "execution_count": null,
   "metadata": {},
   "outputs": [],
   "source": []
  }
 ],
 "metadata": {
  "kernelspec": {
   "display_name": "venv",
   "language": "python",
   "name": "python3"
  },
  "language_info": {
   "codemirror_mode": {
    "name": "ipython",
    "version": 3
   },
   "file_extension": ".py",
   "mimetype": "text/x-python",
   "name": "python",
   "nbconvert_exporter": "python",
   "pygments_lexer": "ipython3",
   "version": "3.10.12"
  }
 },
 "nbformat": 4,
 "nbformat_minor": 2
}
