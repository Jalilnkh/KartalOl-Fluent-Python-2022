{
 "cells": [
  {
   "cell_type": "markdown",
   "metadata": {},
   "source": [
    "# Chapter 24: Class Metaprogramming"
   ]
  },
  {
   "cell_type": "markdown",
   "metadata": {},
   "source": [
    "Class metaprogramming is the art of creating or customizing classes at runtime."
   ]
  },
  {
   "cell_type": "markdown",
   "metadata": {},
   "source": [
    "### Classes as Objects"
   ]
  },
  {
   "cell_type": "markdown",
   "metadata": {},
   "source": [
    "Like most program entities in Python, classes are also objects. Every class has a number of attributes defined in the Python Data Model."
   ]
  },
  {
   "cell_type": "code",
   "execution_count": 1,
   "metadata": {},
   "outputs": [],
   "source": [
    "# Define a simple class\n",
    "class Dog:\n",
    "    species = \"Canis familiaris\"\n",
    "\n",
    "    def __init__(self, name, age):\n",
    "        self.name = name\n",
    "        self.age = age\n",
    "\n",
    "    def speak(self, sound):\n",
    "        return f\"{self.name} says {sound}\""
   ]
  },
  {
   "cell_type": "code",
   "execution_count": 2,
   "metadata": {},
   "outputs": [
    {
     "name": "stdout",
     "output_type": "stream",
     "text": [
      "Buddy says Woof\n",
      "True\n",
      "Molly says Woof Woof\n",
      "Labrador\n",
      "Labrador\n"
     ]
    }
   ],
   "source": [
    "# Instantiating a Dog object\n",
    "buddy = Dog(\"Buddy\", 9)\n",
    "print(buddy.speak(\"Woof\"))\n",
    "\n",
    "# Classes are objects too. Let's prove it.\n",
    "print(isinstance(Dog, object))  # True\n",
    "\n",
    "# Define a function that accepts a class as an argument and creates an instance\n",
    "def create_pet(pet_class, name, age):\n",
    "    return pet_class(name, age)\n",
    "\n",
    "# Use the create_pet function to create an instance of Dog\n",
    "my_pet = create_pet(Dog, \"Molly\", 3)\n",
    "print(my_pet.speak(\"Woof Woof\"))\n",
    "\n",
    "# Adding an attribute to the Dog class object dynamically\n",
    "Dog.breed = \"Labrador\"\n",
    "\n",
    "# Now all instances of Dog, as well as the class itself, have the 'breed' attribute\n",
    "print(Dog.breed)  # Labrador\n",
    "print(buddy.breed)  # Labrador"
   ]
  },
  {
   "cell_type": "markdown",
   "metadata": {},
   "source": [
    "### A Class Factory Function"
   ]
  },
  {
   "cell_type": "markdown",
   "metadata": {},
   "source": [
    "The standard library has a class factory function that appears several times in this\n",
    "book: collections.namedtuple."
   ]
  },
  {
   "cell_type": "code",
   "execution_count": 3,
   "metadata": {},
   "outputs": [],
   "source": [
    "def class_factory(class_name, say_what):\n",
    "    # Define a new class dynamically\n",
    "    class DynamicClass:\n",
    "        def __init__(self, name):\n",
    "            self.name = name\n",
    "\n",
    "        def speak(self):\n",
    "            return f\"{self.name} says {say_what}!\"\n",
    "\n",
    "    # Set the __name__ attribute of the class to the given class_name\n",
    "    DynamicClass.__name__ = class_name\n",
    "\n",
    "    # Return the new class\n",
    "    return DynamicClass"
   ]
  },
  {
   "cell_type": "code",
   "execution_count": 4,
   "metadata": {},
   "outputs": [
    {
     "name": "stdout",
     "output_type": "stream",
     "text": [
      "Alice says Hello!\n"
     ]
    }
   ],
   "source": [
    "# Use the factory function to create a new class\n",
    "GreeterClass = class_factory(\"Greeter\", \"Hello\")\n",
    "\n",
    "# Create an instance of the dynamically created class\n",
    "greeter = GreeterClass(\"Alice\")\n",
    "\n",
    "# Use the instance\n",
    "print(greeter.speak()) "
   ]
  },
  {
   "cell_type": "markdown",
   "metadata": {},
   "source": [
    "### Introducing __init_subclass__"
   ]
  },
  {
   "cell_type": "code",
   "execution_count": 1,
   "metadata": {},
   "outputs": [
    {
     "name": "stdout",
     "output_type": "stream",
     "text": [
      "PluginA\n",
      "PluginB\n"
     ]
    }
   ],
   "source": [
    "from checkedlib import Plugin\n",
    "\n",
    "class PluginA(Plugin):\n",
    "    pass\n",
    "\n",
    "class PluginB(Plugin):\n",
    "    pass\n",
    "\n",
    "\n",
    "available_plugins = Plugin.get_plugins()\n",
    "for plugin in available_plugins:\n",
    "    print(plugin.__name__)\n",
    "    "
   ]
  },
  {
   "cell_type": "markdown",
   "metadata": {},
   "source": [
    "### Enhancing Classes with a Class Decorator"
   ]
  },
  {
   "cell_type": "markdown",
   "metadata": {},
   "source": [
    "__**Step 1: Define the Class Decorator**__\n",
    "\n",
    "This class decorator will wrap each method call with a function that logs the method's name and its arguments before calling the actual method."
   ]
  },
  {
   "cell_type": "code",
   "execution_count": 1,
   "metadata": {},
   "outputs": [],
   "source": [
    "def log_class_methods(cls):\n",
    "    class WrappedClass:\n",
    "        def __init__(self, *args, **kwargs):\n",
    "            self._instance = cls(*args, **kwargs)\n",
    "\n",
    "        def __getattr__(self, name):\n",
    "            attr = getattr(self._instance, name)\n",
    "            if callable(attr):\n",
    "                def wrapped(*args, **kwargs):\n",
    "                    print(f\"Calling {name} with args {args} and kwargs {kwargs}\")\n",
    "                    return attr(*args, **kwargs)\n",
    "                return wrapped\n",
    "            return attr\n",
    "    return WrappedClass"
   ]
  },
  {
   "cell_type": "markdown",
   "metadata": {},
   "source": [
    "__**Step 2: Apply the Class Decorator**__\n",
    "\n",
    "Now, we apply the decorator to the Calculator class."
   ]
  },
  {
   "cell_type": "code",
   "execution_count": 2,
   "metadata": {},
   "outputs": [],
   "source": [
    "@log_class_methods\n",
    "class Calculator:\n",
    "    def add(self, a, b):\n",
    "        return a + b\n",
    "\n",
    "    def multiply(self, a, b):\n",
    "        return a * b"
   ]
  },
  {
   "cell_type": "markdown",
   "metadata": {},
   "source": [
    "__**Step 3: Use the Decorated Class**__\n",
    "\n",
    "Finally, create an instance of the decorated class and call its methods to see the logging in action."
   ]
  },
  {
   "cell_type": "code",
   "execution_count": 4,
   "metadata": {},
   "outputs": [
    {
     "name": "stdout",
     "output_type": "stream",
     "text": [
      "Calling add with args (2, 3) and kwargs {}\n",
      "Calling multiply with args (4, 5) and kwargs {}\n"
     ]
    }
   ],
   "source": [
    "calc = Calculator()\n",
    "# Use the methods to see the logging\n",
    "result_add = calc.add(2, 3)  # Should log the method call\n",
    "result_multiply = calc.multiply(4, 5)  # Should log the method call\n"
   ]
  },
  {
   "cell_type": "code",
   "execution_count": 5,
   "metadata": {},
   "outputs": [
    {
     "name": "stdout",
     "output_type": "stream",
     "text": [
      "Result of add: 5\n",
      "Result of multiply: 20\n"
     ]
    }
   ],
   "source": [
    "print(f\"Result of add: {result_add}\")\n",
    "print(f\"Result of multiply: {result_multiply}\")"
   ]
  },
  {
   "cell_type": "markdown",
   "metadata": {},
   "source": [
    "### A Class Can Only Have One Metaclass"
   ]
  },
  {
   "cell_type": "markdown",
   "metadata": {},
   "source": [
    "If your class declaration involves two or more metaclasses, you will see this puzzling\n",
    "error message:\n",
    "TypeError: metaclass conflict: the metaclass of a derived class\n",
    "must be a (non-strict) subclass of the metaclasses of all its bases"
   ]
  },
  {
   "cell_type": "code",
   "execution_count": 1,
   "metadata": {},
   "outputs": [],
   "source": [
    "class MetaA(type):\n",
    "    def __new__(cls, name, bases, class_dict):\n",
    "        print(f'MetaA.__new__ called for {name}')\n",
    "        return super().__new__(cls, name, bases, class_dict)"
   ]
  },
  {
   "cell_type": "code",
   "execution_count": 2,
   "metadata": {},
   "outputs": [],
   "source": [
    "class MetaB(type):\n",
    "    def __new__(cls, name, bases, class_dict):\n",
    "        print(f'MetaB.__new__ called for {name}')\n",
    "        return super().__new__(cls, name, bases, class_dict)\n"
   ]
  },
  {
   "cell_type": "code",
   "execution_count": 3,
   "metadata": {},
   "outputs": [
    {
     "name": "stdout",
     "output_type": "stream",
     "text": [
      "MetaA.__new__ called for MyClassA\n",
      "MetaB.__new__ called for MyClassB\n"
     ]
    }
   ],
   "source": [
    "class MyClassA(metaclass=MetaA):\n",
    "    pass\n",
    "\n",
    "class MyClassB(metaclass=MetaB):\n",
    "    pass\n"
   ]
  },
  {
   "cell_type": "code",
   "execution_count": 4,
   "metadata": {},
   "outputs": [
    {
     "ename": "TypeError",
     "evalue": "metaclass conflict: the metaclass of a derived class must be a (non-strict) subclass of the metaclasses of all its bases",
     "output_type": "error",
     "traceback": [
      "\u001b[0;31m---------------------------------------------------------------------------\u001b[0m",
      "\u001b[0;31mTypeError\u001b[0m                                 Traceback (most recent call last)",
      "Cell \u001b[0;32mIn[4], line 1\u001b[0m\n\u001b[0;32m----> 1\u001b[0m \u001b[38;5;28;01mclass\u001b[39;00m \u001b[38;5;21;01mMyClassC\u001b[39;00m(MyClassA, MyClassB):\n\u001b[1;32m      2\u001b[0m     \u001b[38;5;28;01mpass\u001b[39;00m\n",
      "\u001b[0;31mTypeError\u001b[0m: metaclass conflict: the metaclass of a derived class must be a (non-strict) subclass of the metaclasses of all its bases"
     ]
    }
   ],
   "source": [
    "class MyClassC(MyClassA, MyClassB):\n",
    "    pass\n"
   ]
  },
  {
   "cell_type": "code",
   "execution_count": null,
   "metadata": {},
   "outputs": [],
   "source": []
  }
 ],
 "metadata": {
  "kernelspec": {
   "display_name": "venv",
   "language": "python",
   "name": "python3"
  },
  "language_info": {
   "codemirror_mode": {
    "name": "ipython",
    "version": 3
   },
   "file_extension": ".py",
   "mimetype": "text/x-python",
   "name": "python",
   "nbconvert_exporter": "python",
   "pygments_lexer": "ipython3",
   "version": "3.10.12"
  }
 },
 "nbformat": 4,
 "nbformat_minor": 2
}
