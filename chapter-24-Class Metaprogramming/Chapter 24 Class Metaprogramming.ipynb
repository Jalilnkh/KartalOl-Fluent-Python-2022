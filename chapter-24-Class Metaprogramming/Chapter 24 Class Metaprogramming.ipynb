{
 "cells": [
  {
   "cell_type": "markdown",
   "metadata": {},
   "source": [
    "# Chapter 24: Class Metaprogramming"
   ]
  },
  {
   "cell_type": "markdown",
   "metadata": {},
   "source": [
    "Class metaprogramming is the art of creating or customizing classes at runtime."
   ]
  },
  {
   "cell_type": "markdown",
   "metadata": {},
   "source": [
    "### Classes as Objects"
   ]
  },
  {
   "cell_type": "markdown",
   "metadata": {},
   "source": [
    "Like most program entities in Python, classes are also objects. Every class has a number of attributes defined in the Python Data Model."
   ]
  },
  {
   "cell_type": "code",
   "execution_count": 2,
   "metadata": {},
   "outputs": [],
   "source": [
    "# Define a simple class\n",
    "class Dog:\n",
    "    species = \"Canis familiaris\"\n",
    "\n",
    "    def __init__(self, name, age):\n",
    "        self.name = name\n",
    "        self.age = age\n",
    "\n",
    "    def speak(self, sound):\n",
    "        return f\"{self.name} says {sound}\""
   ]
  },
  {
   "cell_type": "code",
   "execution_count": 5,
   "metadata": {},
   "outputs": [
    {
     "name": "stdout",
     "output_type": "stream",
     "text": [
      "Buddy says Woof\n",
      "True\n",
      "Molly says Woof Woof\n",
      "Labrador\n",
      "Labrador\n"
     ]
    }
   ],
   "source": [
    "# Instantiating a Dog object\n",
    "buddy = Dog(\"Buddy\", 9)\n",
    "print(buddy.speak(\"Woof\"))\n",
    "\n",
    "# Classes are objects too. Let's prove it.\n",
    "print(isinstance(Dog, object))  # True\n",
    "\n",
    "# Define a function that accepts a class as an argument and creates an instance\n",
    "def create_pet(pet_class, name, age):\n",
    "    return pet_class(name, age)\n",
    "\n",
    "# Use the create_pet function to create an instance of Dog\n",
    "my_pet = create_pet(Dog, \"Molly\", 3)\n",
    "print(my_pet.speak(\"Woof Woof\"))\n",
    "\n",
    "# Adding an attribute to the Dog class object dynamically\n",
    "Dog.breed = \"Labrador\"\n",
    "\n",
    "# Now all instances of Dog, as well as the class itself, have the 'breed' attribute\n",
    "print(Dog.breed)  # Labrador\n",
    "print(buddy.breed)  # Labrador"
   ]
  },
  {
   "cell_type": "code",
   "execution_count": null,
   "metadata": {},
   "outputs": [],
   "source": []
  }
 ],
 "metadata": {
  "kernelspec": {
   "display_name": "venv",
   "language": "python",
   "name": "python3"
  },
  "language_info": {
   "codemirror_mode": {
    "name": "ipython",
    "version": 3
   },
   "file_extension": ".py",
   "mimetype": "text/x-python",
   "name": "python",
   "nbconvert_exporter": "python",
   "pygments_lexer": "ipython3",
   "version": "3.10.12"
  }
 },
 "nbformat": 4,
 "nbformat_minor": 2
}
