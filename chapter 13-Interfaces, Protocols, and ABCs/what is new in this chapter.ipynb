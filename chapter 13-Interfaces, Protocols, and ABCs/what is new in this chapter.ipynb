{
 "cells": [
  {
   "cell_type": "markdown",
   "metadata": {},
   "source": [
    "What’s new in this chapter\n",
    "This chapter was heavily edited and is about 24% longer than the\n",
    "corresponding Chapter 11 in Fluent Python, First Edition. Although somesections and many paragraphs are the same, there’s a lot of new content.\n",
    "These are the highlights:\n",
    "\n",
    "The chapter introduction and the Typing Map (Figure 13-1) are\n",
    "new. That’s the key to most new content in this chapter—and all other chapters related to typing in Python ≥ 3.8.\n",
    "\n",
    "“Two kinds of protocols” explains the similarities and differences\n",
    "between dynamic and static protocols.\n",
    "\n",
    "“Defensive programming and “fail fast”” mostly reproduces\n",
    "content from the First Edition, but was updated and now has a\n",
    "section title to highlight its importance.\n",
    "\n",
    "“Static protocols” is all new. It builds on the initial presentation in\n",
    "“Static Protocols” (Chapter 8).\n",
    "\n",
    "Updated class diagrams of collections.abc in Figure 13-2,\n",
    "Figure 13-3, and Figure 13-4 to include the Collection ABC,\n",
    "from Python 3.6."
   ]
  },
  {
   "cell_type": "markdown",
   "metadata": {},
   "source": [
    "Example 13-1. Partial sequence protocol implementation with __getitem__."
   ]
  },
  {
   "cell_type": "code",
   "execution_count": 1,
   "metadata": {},
   "outputs": [],
   "source": [
    "class Vowels:\n",
    "    def __getitem__(self, i):\n",
    "        return 'ABIOU'[i]\n",
    "\n",
    "v = Vowels()"
   ]
  },
  {
   "cell_type": "code",
   "execution_count": 2,
   "metadata": {},
   "outputs": [
    {
     "data": {
      "text/plain": [
       "'A'"
      ]
     },
     "execution_count": 2,
     "metadata": {},
     "output_type": "execute_result"
    }
   ],
   "source": [
    "v[0]"
   ]
  },
  {
   "cell_type": "markdown",
   "metadata": {},
   "source": [
    "## Programming ducks\n",
    "Let’s start our discussion of dynamic protocols with two of the most\n",
    "important in Python: the sequence and iterable protocols."
   ]
  },
  {
   "cell_type": "markdown",
   "metadata": {},
   "source": [
    "Python Digs Sequences"
   ]
  },
  {
   "cell_type": "code",
   "execution_count": null,
   "metadata": {},
   "outputs": [],
   "source": []
  }
 ],
 "metadata": {
  "interpreter": {
   "hash": "f37e42b12bd1748322ce5a2251ca22602ec7c09e81e48cb8b4978f90cad86323"
  },
  "kernelspec": {
   "display_name": "Python 3.10.2 ('venv10': venv)",
   "language": "python",
   "name": "python3"
  },
  "language_info": {
   "codemirror_mode": {
    "name": "ipython",
    "version": 3
   },
   "file_extension": ".py",
   "mimetype": "text/x-python",
   "name": "python",
   "nbconvert_exporter": "python",
   "pygments_lexer": "ipython3",
   "version": "3.10.2"
  },
  "orig_nbformat": 4
 },
 "nbformat": 4,
 "nbformat_minor": 2
}
