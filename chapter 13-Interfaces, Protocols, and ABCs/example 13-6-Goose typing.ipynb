{
 "cells": [
  {
   "cell_type": "markdown",
   "metadata": {},
   "source": [
    "## Goose typing"
   ]
  },
  {
   "cell_type": "markdown",
   "metadata": {},
   "source": [
    "Python doesn’t have an interface keyword. We use Abstract Base\n",
    "Classes (ABCs) to define interfaces for explicit type checking at runtime—\n",
    "but also supported by static type checkers.\n",
    "The Python Glossary entry for abstract base class has a good explanation of\n",
    "the value they bring to duck-typed languages"
   ]
  },
  {
   "cell_type": "markdown",
   "metadata": {},
   "source": [
    "Goose typing is a runtime type checking approach that leverages ABCs."
   ]
  },
  {
   "cell_type": "code",
   "execution_count": 1,
   "metadata": {},
   "outputs": [],
   "source": [
    "class Struggle:\n",
    "\n",
    "    def __len__(self): return 23"
   ]
  },
  {
   "cell_type": "code",
   "execution_count": 2,
   "metadata": {},
   "outputs": [
    {
     "data": {
      "text/plain": [
       "True"
      ]
     },
     "execution_count": 2,
     "metadata": {},
     "output_type": "execute_result"
    }
   ],
   "source": [
    "from collections import abc\n",
    "\n",
    "isinstance(Struggle(), abc.Sized)"
   ]
  },
  {
   "cell_type": "markdown",
   "metadata": {},
   "source": [
    "Subclassing an ABC"
   ]
  },
  {
   "cell_type": "markdown",
   "metadata": {},
   "source": [
    "Example 13-6. frenchdeck2.py: FrenchDeck2, a subclass of\n",
    "collections.MutableSequence"
   ]
  },
  {
   "cell_type": "code",
   "execution_count": 3,
   "metadata": {},
   "outputs": [],
   "source": [
    "from collections import namedtuple, abc\n",
    "\n",
    "Card = namedtuple('Card', ['rank', 'suit'])\n",
    "\n",
    "class FrenchDeck2(abc.MutableSequence):\n",
    "    ranks = [str(n) for n in range(2, 11)] + list('JQKA')\n",
    "    suits = 'spades diamonds clubs hearts'.split()\n",
    "\n",
    "    def __init__(self):\n",
    "        self._cards = [Card(rank, suit) for suit in self.suits\n",
    "                                      for rank in self.ranks]\n",
    "    def __len__(self):\n",
    "        return len(self._cards)\n",
    "\n",
    "    def __getitem__(self, position):\n",
    "        return self._cards[position]\n",
    "\n",
    "    def __setitem__(self, position, value):\n",
    "        self._cards[position] = value\n",
    "\n",
    "    def __delitem__(self, position):\n",
    "        del self._cards[position]\n",
    "\n",
    "    def insert(self, position, value):\n",
    "        self._cards.insert(position, value)"
   ]
  },
  {
   "cell_type": "markdown",
   "metadata": {},
   "source": [
    "ABCs in the Standard Library\n",
    "\n",
    "Since Python 2.6, the standard library provides several ABCs. Most are\n",
    "defined in the collections.abc module, but there are others."
   ]
  },
  {
   "cell_type": "markdown",
   "metadata": {},
   "source": [
    "Defining and Using an ABC"
   ]
  },
  {
   "cell_type": "markdown",
   "metadata": {},
   "source": [
    "Example 13-7 shows the definition of the Tombola ABC.\n",
    "\n",
    "Example 13-7. tombola.py: Tombola is an ABC with two abstract methods\n",
    "and two concrete methods"
   ]
  },
  {
   "cell_type": "code",
   "execution_count": 9,
   "metadata": {},
   "outputs": [],
   "source": [
    "import abc\n",
    "\n",
    "class Tombola(abc.ABC):\n",
    "\n",
    "    @abc.abstractmethod\n",
    "    def load(self, iterable):\n",
    "        \"\"\"Add items from an iterable.\"\"\"\n",
    "\n",
    "    @abc.abstractmethod\n",
    "    def pick(self):\n",
    "        \"\"\"Remove item at random, returning it.\n",
    "        This method should raise `LookupError` when the instance is\n",
    "        empty.\n",
    "        \"\"\"\n",
    "    def loaded(self):\n",
    "        \"\"\"Return `True` if there's at least 1 item, `False`\n",
    "        otherwise.\"\"\"\n",
    "        return bool(self.inspect())\n",
    "    def inspect(self):\n",
    "        \"\"\"Return a sorted tuple with the items currently\n",
    "        inside.\"\"\"\n",
    "        items = []\n",
    "        while True:\n",
    "            try:\n",
    "                items.append(self.pick())\n",
    "            except LookupError:\n",
    "                break\n",
    "            self.load(items)\n",
    "            return tuple(items)"
   ]
  },
  {
   "cell_type": "code",
   "execution_count": 5,
   "metadata": {},
   "outputs": [],
   "source": [
    "class Fake(Tombola):\n",
    "\n",
    "    def pick(self):\n",
    "        return 13\n"
   ]
  },
  {
   "cell_type": "code",
   "execution_count": 6,
   "metadata": {},
   "outputs": [
    {
     "data": {
      "text/plain": [
       "__main__.Fake"
      ]
     },
     "execution_count": 6,
     "metadata": {},
     "output_type": "execute_result"
    }
   ],
   "source": [
    "Fake"
   ]
  },
  {
   "cell_type": "code",
   "execution_count": 10,
   "metadata": {},
   "outputs": [
    {
     "ename": "TypeError",
     "evalue": "Can't instantiate abstract class Tombola with abstract methods load, pick",
     "output_type": "error",
     "traceback": [
      "\u001b[0;31m---------------------------------------------------------------------------\u001b[0m",
      "\u001b[0;31mTypeError\u001b[0m                                 Traceback (most recent call last)",
      "Input \u001b[0;32mIn [10]\u001b[0m, in \u001b[0;36m<module>\u001b[0;34m\u001b[0m\n\u001b[0;32m----> 1\u001b[0m f \u001b[38;5;241m=\u001b[39m \u001b[43mTombola\u001b[49m\u001b[43m(\u001b[49m\u001b[43m)\u001b[49m\n",
      "\u001b[0;31mTypeError\u001b[0m: Can't instantiate abstract class Tombola with abstract methods load, pick"
     ]
    }
   ],
   "source": [
    "f = Tombola()"
   ]
  },
  {
   "cell_type": "code",
   "execution_count": null,
   "metadata": {},
   "outputs": [],
   "source": []
  }
 ],
 "metadata": {
  "interpreter": {
   "hash": "8a94588eda9d64d9e9a351ab8144e55b1fabf5113b54e67dd26a8c27df0381b3"
  },
  "kernelspec": {
   "display_name": "Python 3.10.2 64-bit",
   "language": "python",
   "name": "python3"
  },
  "language_info": {
   "codemirror_mode": {
    "name": "ipython",
    "version": 3
   },
   "file_extension": ".py",
   "mimetype": "text/x-python",
   "name": "python",
   "nbconvert_exporter": "python",
   "pygments_lexer": "ipython3",
   "version": "3.10.2"
  },
  "orig_nbformat": 4
 },
 "nbformat": 4,
 "nbformat_minor": 2
}
