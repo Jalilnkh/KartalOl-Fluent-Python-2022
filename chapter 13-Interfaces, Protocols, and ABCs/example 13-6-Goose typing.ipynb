{
 "cells": [
  {
   "cell_type": "markdown",
   "metadata": {},
   "source": [
    "## Goose typing"
   ]
  },
  {
   "cell_type": "markdown",
   "metadata": {},
   "source": [
    "Python doesn’t have an interface keyword. We use Abstract Base\n",
    "Classes (ABCs) to define interfaces for explicit type checking at runtime—\n",
    "but also supported by static type checkers.\n",
    "The Python Glossary entry for abstract base class has a good explanation of\n",
    "the value they bring to duck-typed languages"
   ]
  },
  {
   "cell_type": "markdown",
   "metadata": {},
   "source": [
    "Goose typing is a runtime type checking approach that leverages ABCs."
   ]
  },
  {
   "cell_type": "code",
   "execution_count": null,
   "metadata": {},
   "outputs": [],
   "source": []
  }
 ],
 "metadata": {
  "language_info": {
   "name": "python"
  },
  "orig_nbformat": 4
 },
 "nbformat": 4,
 "nbformat_minor": 2
}
