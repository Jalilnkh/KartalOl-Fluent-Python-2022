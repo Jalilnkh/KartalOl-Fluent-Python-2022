{
 "cells": [
  {
   "cell_type": "markdown",
   "metadata": {},
   "source": [
    "# Deep learning Interview Questions with answers and code example"
   ]
  },
  {
   "cell_type": "markdown",
   "metadata": {},
   "source": [
    "#### Question 1: What is Deep Learning?"
   ]
  },
  {
   "cell_type": "markdown",
   "metadata": {},
   "source": [
    "__Answer__ :\n",
    "\n",
    "Deep learning is a type of artificial intelligence that involves using complex algorithms called neural networks to process data, learn patterns, and make decisions. These neural networks are designed to mimic the way the human brain operates, allowing machines to recognize and respond to complex patterns in a similar way to humans."
   ]
  },
  {
   "cell_type": "markdown",
   "metadata": {},
   "source": [
    "#### Question 2: How does Deep Learning differ from traditional Machine Learning?"
   ]
  },
  {
   "cell_type": "markdown",
   "metadata": {},
   "source": [
    "__Answer__ :"
   ]
  },
  {
   "cell_type": "markdown",
   "metadata": {},
   "source": [
    "Deep learning is a subset of machine learning that uses multi-layered neural networks to analyze various factors of data. Unlike traditional machine learning, which often requires manual feature extraction and selection, deep learning automatically learns features from raw data, making it highly effective for complex tasks like image and speech recognition. This allows deep learning to handle larger datasets and more complex problems more effectively than traditional machine learning techniques."
   ]
  },
  {
   "cell_type": "markdown",
   "metadata": {},
   "source": [
    "#### Question 3: What is a Neural Network?"
   ]
  },
  {
   "cell_type": "markdown",
   "metadata": {},
   "source": [
    "__Answer__ :"
   ]
  },
  {
   "cell_type": "markdown",
   "metadata": {},
   "source": [
    "A neural network is a series of algorithms that attempts to recognize underlying relationships in a set of data through a process that mimics the way the human brain operates. In essence, it is a system of interconnected \"neurons\" that can process inputs, weight them, and produce outputs. These networks are typically organized in layers, with each layer performing different transformations on the input data to help the system learn complex patterns for tasks such as classification, regression, and prediction."
   ]
  },
  {
   "cell_type": "markdown",
   "metadata": {},
   "source": [
    "#### Question 4: Explain the concept of a neuron in Deep Learning"
   ]
  },
  {
   "cell_type": "markdown",
   "metadata": {},
   "source": [
    "__Answer__ :"
   ]
  },
  {
   "cell_type": "markdown",
   "metadata": {},
   "source": [
    "In deep learning, a neuron is a fundamental unit that simulates the behavior of biological neurons in the human brain. It receives input, processes it, and generates output based on that input. Each neuron in a neural network receives multiple inputs, applies weights to them, sums them up, and passes the sum through an activation function to produce an output. This output can then serve as an input to the next layer of neurons in the network. The process allows neural networks to learn complex patterns from data."
   ]
  },
  {
   "cell_type": "markdown",
   "metadata": {},
   "source": [
    "#### Question 5: Explain architecture of Neural Networks in simple way"
   ]
  },
  {
   "cell_type": "markdown",
   "metadata": {},
   "source": [
    "__Answer__ :"
   ]
  },
  {
   "cell_type": "markdown",
   "metadata": {},
   "source": [
    "Neural networks are structured similarly to the human brain. They consist of layers of neurons, which are simple computational units. The architecture of NN is as follows:\n",
    "\n",
    "1. **Input Layer**: This is where the data enters the network. Each neuron in this layer represents a feature of the input data.\n",
    "\n",
    "2. **Hidden Layers**: These layers are between the input and output. They process the inputs from the previous layer using weights (which are learned during training) and biases, often passed through an activation function to introduce non-linearity.\n",
    "\n",
    "3. **Output Layer**: The final layer produces the network’s predictions, formatted to suit the specific type of problem (like classification or regression).\n",
    "\n",
    "Data flows from the input layer through the hidden layers to the output layer, and during training, the network adjusts the weights and biases to minimize error in its predictions."
   ]
  },
  {
   "cell_type": "markdown",
   "metadata": {},
   "source": [
    "#### Question 6: What is an activation function in a Neural Network?"
   ]
  },
  {
   "cell_type": "markdown",
   "metadata": {},
   "source": [
    "#### Answer:"
   ]
  },
  {
   "cell_type": "markdown",
   "metadata": {},
   "source": [
    "An activation function in a neural network is a mathematical operation applied to each neuron's output in the network. It determines whether the neuron should be activated or not, helping to add non-linearity to the decision-making process."
   ]
  },
  {
   "cell_type": "markdown",
   "metadata": {},
   "source": [
    "### Question 7: Name few popular activationfunctions and describe them?"
   ]
  },
  {
   "cell_type": "markdown",
   "metadata": {},
   "source": [
    "Types of Activation Functions:\n",
    "\n",
    "**Sigmoid**: Outputs values between 0 and 1, making it useful for models where we need to predict probabilities as outputs.\n",
    "\n",
    "**ReLU (Rectified Linear Unit)**: Provides output x if x is positive and 0 otherwise. It is the most commonly used activation function in neural networks due to its computational efficiency and the ability to handle vanishing gradient problems better than sigmoid.\n",
    "\n",
    "**Tanh (Hyperbolic Tangent)**: Outputs values between -1 and 1, which centers the data thus aiding in data preprocessing. It is similar to sigmoid but provides a larger output range.\n",
    "\n",
    "**Softmax**: Used in the output layer of a neural network to perform multi-class classification; it returns probability scores for a set of classes."
   ]
  },
  {
   "cell_type": "markdown",
   "metadata": {},
   "source": [
    "#### Answer"
   ]
  },
  {
   "cell_type": "markdown",
   "metadata": {},
   "source": [
    "#### Qestion 20: What kind of loss function should we use for multi class classification?"
   ]
  },
  {
   "cell_type": "markdown",
   "metadata": {},
   "source": [
    "__Answer__ :"
   ]
  },
  {
   "cell_type": "markdown",
   "metadata": {},
   "source": [
    "We can use multi-class ceoss entropy which is known SofMax function. "
   ]
  },
  {
   "cell_type": "code",
   "execution_count": 1,
   "metadata": {},
   "outputs": [],
   "source": [
    "# code example is in test_softmax.py file"
   ]
  },
  {
   "cell_type": "code",
   "execution_count": null,
   "metadata": {},
   "outputs": [],
   "source": []
  }
 ],
 "metadata": {
  "kernelspec": {
   "display_name": "venv",
   "language": "python",
   "name": "python3"
  },
  "language_info": {
   "codemirror_mode": {
    "name": "ipython",
    "version": 3
   },
   "file_extension": ".py",
   "mimetype": "text/x-python",
   "name": "python",
   "nbconvert_exporter": "python",
   "pygments_lexer": "ipython3",
   "version": "3.10.12"
  }
 },
 "nbformat": 4,
 "nbformat_minor": 2
}
