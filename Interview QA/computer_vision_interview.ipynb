{
 "cells": [
  {
   "cell_type": "markdown",
   "metadata": {},
   "source": [
    "# Computer Vision Engineer Interview Questions with Answers"
   ]
  },
  {
   "cell_type": "markdown",
   "metadata": {},
   "source": [
    "### Question 1: Why does one use MSE as a measure of quality. What is the scientific/mathematical reason for the same?\n",
    "#### Answer\n",
    "Mean Squared Error (MSE) is a widely used measure of quality in statistics and machine learning due to its solid mathematical foundation. It quantifies the variance and average squared distance between predicted values and actual values, providing a clear and interpretable metric of model performance. The squaring of errors in MSE penalizes larger errors more than smaller ones, which can be particularly useful in emphasizing the importance of avoiding large deviations in predictions. Mathematically, MSE is differentiable, which facilitates finding optimal solutions through gradient descent and other optimization techniques common in machine learning. Lastly, MSE relates directly to the variance and bias of an estimator, providing insights into the error characteristics of a model, which are crucial for understanding and improving model predictions."
   ]
  },
  {
   "cell_type": "markdown",
   "metadata": {},
   "source": [
    "### Question 2: How would you code up a custom rectangle detector?\n",
    "#### Answer\n",
    "To code a custom rectangle detector, you could use a combination of image processing techniques and machine learning algorithms. Start by preprocessing the image using techniques like grayscale conversion and edge detection (e.g., using the Canny edge detector) to highlight potential boundaries of rectangles. Apply contour detection methods (such as those available in OpenCV) to find closed contours in the image. For each detected contour, check if it can be approximated by a polygon with four vertices using a function like cv2.approxPolyDP(); this helps in identifying shapes that closely resemble rectangles. Finally, verify the properties of these polygons, such as ensuring the angles are close to 90 degrees and opposite sides are parallel, to confirm they are rectangles."
   ]
  },
  {
   "cell_type": "markdown",
   "metadata": {},
   "source": [
    "### Question 3: What is Back-propagation?\n",
    "#### Answer\n",
    "Back-propagation is an algorithm used for training artificial neural networks. It calculates the gradient of the loss function with respect to each weight in the network by applying the chain rule, moving backwards from the output to the input layer. This process updates the weights to minimize the loss, allowing the network to learn from the data. Back-propagation is essential for deep learning models as it efficiently handles weight adjustments throughout multiple layers."
   ]
  },
  {
   "cell_type": "markdown",
   "metadata": {},
   "source": [
    "### Question 4: Explain Overfit vs Underfit\n",
    "#### Answer\n",
    "Overfitting occurs when a model learns the detail and noise in the training data to the extent that it negatively impacts the performance of the model on new data. This means the model is too complex, with too many parameters relative to the number of observations. Underfitting occurs when a model is too simple, both unable to model the underlying data well and to generalize to new data. This often happens if the model has too few parameters to capture underlying trends in the data."
   ]
  },
  {
   "cell_type": "markdown",
   "metadata": {},
   "source": [
    "### Question 5: Closed form solution to linear regression?\n",
    "#### Answer\n",
    "The closed form solution to linear regression is known as the Normal Equation. It provides a way to find the best fitting line to a set of points by minimizing the sum of the squared differences between observed and predicted values. Mathematically, it can be expressed as: β=(X^TX)^−1X^Ty where 𝑋 is the matrix of input features, y is the vector of target values, and β are the parameters of the model.\n"
   ]
  },
  {
   "cell_type": "markdown",
   "metadata": {},
   "source": [
    "### Question 6: Explain Vanishing Gradient vs Exploding Gradients due to choice of ReLU vs Sigmoid\n",
    "#### Answer\n",
    "Vanishing Gradients: This problem often occurs with the sigmoid activation function, especially in deep networks. As the absolute value of the input increases, the gradient of the sigmoid function approaches zero, which results in gradients that are too small for effective learning in the lower layers of the network during back-propagation.\n",
    "Exploding Gradients: This is more common with ReLU (Rectified Linear Unit) in very deep networks because the gradient of ReLU can either be 0 or 1. If large error gradients accumulate, they can cause the weights to update in large increments, potentially leading to an unstable network. However, ReLU is generally less likely to suffer from vanishing gradients compared to sigmoid since it does not saturate in the positive domain."
   ]
  },
  {
   "cell_type": "markdown",
   "metadata": {},
   "source": [
    "### Question 7: What is meant by virtual memory?\n",
    "#### Answer\n",
    "Virtual memory is a memory management capability of an operating system (OS) that uses hardware and software to allow a computer to compensate for physical memory shortages, temporarily transferring data from random access memory (RAM) to disk storage. This process creates the illusion to users of a very large (main) memory. It allows systems to handle larger amounts of data than the actual physical RAM present and enables programs to be larger than physical memory."
   ]
  },
  {
   "cell_type": "markdown",
   "metadata": {},
   "source": [
    "### Question 8: What is Time complexity of insertion in Linked List vs. Array? \n",
    "#### Answer\n",
    "Linked List: The time complexity of inserting a new node in a linked list is O(1) if the position is known (for example, inserting at the head or directly after a given node). If the position is not known and needs to be searched, it becomes O(n), where n is the number of elements in the list.\n",
    "Array: Insertion in an array has a time complexity of O(n) in the worst case, as elements may need to be shifted to make space for the new element, particularly if inserting at the beginning or somewhere in the middle of the array."
   ]
  },
  {
   "cell_type": "markdown",
   "metadata": {},
   "source": [
    "### Question 9:  What filter to use Smoothing an image?\n",
    "#### Answer\n",
    "\n",
    "For smoothing an image, commonly used filters include the Gaussian filter and median filter.\n",
    "\n",
    "Gaussian Filter: Ideal for removing Gaussian noise and is widely used due to its properties of having no overshoot to a step function input while minimizing the rise and fall time. This is achieved by a weighted average of surrounding pixels and has the effect of blurring and reducing detail and noise.\n",
    "\n",
    "Median Filter: Particularly effective at removing 'salt and pepper' or impulse noise. It works by moving through the image pixel by pixel, replacing each value with the median value of neighbouring pixels. The median is calculated by first sorting all the pixel values from the surrounding neighborhood into numerical order and then replacing the pixel being considered with the middle pixel value."
   ]
  },
  {
   "cell_type": "markdown",
   "metadata": {},
   "source": [
    "### Question 10:  In Memory storage -what are heap and stack?\n",
    "#### Answer\n",
    "\n",
    "Heap: The heap is used for dynamic memory allocation, with variables being allocated and de-allocated in any order. Memory in the heap persists until it is freed. Heap space is typically larger than stack space but managing memory allocation and deallocation is more complex due to fragmentation issues.\n",
    "\n",
    "Stack: The stack is used for static memory allocation, which allocates memory in a Last In, First Out (LIFO) order. It is particularly used for storing function call frames, local variables, and return addresses during program execution. This type of memory allocation is efficient because of its organization and has a very fast access time, but it is limited in size and can lead to stack overflow."
   ]
  },
  {
   "cell_type": "markdown",
   "metadata": {},
   "source": [
    "### Question 11:  How would I handle different aspect ratio of images?\n",
    "#### Answer\n",
    "The aspect ratio of an image is the ratio of its width to its height. \n",
    "\n",
    "Resizing: A common method is to resize images to a fixed size that the model expects, typically using interpolation methods like bilinear or bicubic interpolation. \n",
    "\n",
    "Padding: To maintain the original aspect ratio without distortion, images can be padded with a border (e.g., zero-padding) to reach the required dimensions. \n",
    "\n",
    "Cropping: Alternatively, images can be cropped to the desired aspect ratio.\n"
   ]
  },
  {
   "cell_type": "markdown",
   "metadata": {},
   "source": [
    "### Question 12: Definition of Precision, Recall, and F1-Score\n",
    "#### Answer\n",
    "Precision: The ratio of correctly predicted positive observations to the total predicted positives.\n",
    "\n",
    "Recall (Sensitivity): The ratio of correctly predicted positive observations to the all observations in actual class\n",
    "\n",
    "F1-Score: The harmonic mean of Precision and Recall."
   ]
  },
  {
   "cell_type": "markdown",
   "metadata": {},
   "source": [
    "### Question 13: How to Do Classification Using Decision Tree\n",
    "#### Answer\n",
    "In Decision Trees, for predicting a class label for a record we start from the root of the tree. We compare the values of the root attribute with the record’s attribute. On the basis of comparison, we follow the branch corresponding to that value and jump to the next node."
   ]
  },
  {
   "cell_type": "code",
   "execution_count": null,
   "metadata": {},
   "outputs": [],
   "source": [
    "### Question : \n",
    "#### Answer"
   ]
  }
 ],
 "metadata": {
  "language_info": {
   "name": "python"
  }
 },
 "nbformat": 4,
 "nbformat_minor": 2
}
