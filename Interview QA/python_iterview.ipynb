{
 "cells": [
  {
   "cell_type": "markdown",
   "metadata": {},
   "source": [
    "# Q & A For a Pprofessional Python Programming Interview"
   ]
  },
  {
   "cell_type": "markdown",
   "metadata": {},
   "source": [
    "### Q1: What is a Python decorator, and how does it work?\n",
    "**Answer:**\n",
    "A Python decorator is a design pattern that allows you to modify the behavior of a function or class. Decorators are usually called before the definition of a function or class that they modify. Under the hood, a decorator is just a callable (usually a function) that takes another function as an argument and returns a function. This allows the decorator to execute code before and after the target function runs, without modifying the function itself.\n",
    "\n",
    "Example:\n",
    "```python\n",
    "def my_decorator(func):\n",
    "    def wrapper():\n",
    "        print(\"Something is happening before the function is called.\")\n",
    "        func()\n",
    "        print(\"Something is happening after the function is called.\")\n",
    "    return wrapper\n",
    "\n",
    "@my_decorator\n",
    "def say_hello():\n",
    "    print(\"Hello!\")\n",
    "\n",
    "say_hello()\n",
    "```"
   ]
  },
  {
   "cell_type": "markdown",
   "metadata": {},
   "source": [
    "### Q2: How do you manage memory in Python? \n",
    "**Answer:**\n",
    "\n",
    "Python uses automatic memory management with a built-in garbage collector, which means that it keeps track of objects and automatically frees memory when objects are no longer in use. Python primarily uses reference counting to manage memory, which means it keeps a count of the number of references to each object in memory. When an object's reference count drops to zero, Python will automatically deallocate it. Additionally, Python's garbage collector detects and cleans up cyclic references (where two or more objects refer to each other, creating a cycle) that reference counting alone cannot handle.\n"
   ]
  },
  {
   "cell_type": "markdown",
   "metadata": {},
   "source": [
    "### Q3: Explain the difference between `@staticmethod` and `@classmethod` in Python.\n",
    "**Answer:**\n",
    "In Python, `@staticmethod` and `@classmethod` are used to define methods within a class that are not explicitly tied to an instance of the class.\n",
    "\n",
    "- `@staticmethod` is used to define a method that does not operate on an instance of the class nor modify the class state. It does not take `self` or `cls` as the first parameter. It's basically like a regular function that belongs to the class's namespace.\n",
    "- `@classmethod`, on the other hand, takes `cls` as the first parameter while `self` is not used. `cls` refers to the class itself, not an instance of the class. This method can modify the class state that applies across all instances of the class, or call other class methods.\n",
    "\n",
    "Example:\n",
    "```python\n",
    "class MyClass:\n",
    "    class_var = \"I am a class variable\"\n",
    "\n",
    "    @staticmethod\n",
    "    def my_static_method():\n",
    "        print(\"I do not modify the class or instances.\")\n",
    "\n",
    "    @classmethod\n",
    "    def my_class_method(cls):\n",
    "        print(cls.class_var)\n",
    "        print(\"I can modify the class itself.\")\n",
    "\n",
    "MyClass.my_static_method()\n",
    "MyClass.my_class_method()\n",
    "\n",
    "Output:\n",
    "\"I do not modify the class or instances.\"\n",
    "\"I am a class variable\"\n",
    "\"I can modify the class itself.\"\n",
    "```"
   ]
  },
  {
   "cell_type": "markdown",
   "metadata": {},
   "source": [
    "### Q4: What are the key differences between lists and tuples in Python?\n",
    "**Answer:**\n",
    "The key differences between lists and tuples in Python are:\n",
    "\n",
    "- **Mutability**: Lists are mutable, meaning that you can modify them after their creation (add, remove, or change items). Tuples, however, are immutable; once created, you cannot change them. This immutability makes tuples slightly faster than lists when it comes to iteration.\n",
    "- **Usage**: Because they are immutable, tuples are used for data that shouldn't change over time, which provides a sort of integrity. Lists are used when you need a sequence of items that you might need to modify. Tuples can also be used as keys in dictionaries, whereas lists cannot.\n"
   ]
  },
  {
   "cell_type": "markdown",
   "metadata": {},
   "source": [
    "### Q5: How does Python handle type conversion?\n",
    "**Answer:**\n",
    "Python provides several built-in functions to perform explicit type conversion, which is also known as type casting. The programmer can convert data types by using these functions. Some common functions include `int()`, `float()`, `str()`, `list()`, `tuple()`, etc.\n",
    "\n",
    "Example:\n",
    "```python\n",
    "number_str = \"123\"\n",
    "number_int = int(number_str)  # Converts string to integer\n",
    "print(number_int + 1)  # 124\n",
    "\n",
    "number_float = float(number_str)  # Converts string to float\n",
    "print(number_float + 1)  # 124.0\n",
    "```\n"
   ]
  }
 ],
 "metadata": {
  "kernelspec": {
   "display_name": "venv",
   "language": "python",
   "name": "python3"
  },
  "language_info": {
   "codemirror_mode": {
    "name": "ipython",
    "version": 3
   },
   "file_extension": ".py",
   "mimetype": "text/x-python",
   "name": "python",
   "nbconvert_exporter": "python",
   "pygments_lexer": "ipython3",
   "version": "3.10.12"
  }
 },
 "nbformat": 4,
 "nbformat_minor": 2
}
