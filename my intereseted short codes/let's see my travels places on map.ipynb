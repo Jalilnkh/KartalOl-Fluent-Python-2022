{
 "cells": [
  {
   "cell_type": "code",
   "execution_count": 1,
   "metadata": {},
   "outputs": [
    {
     "data": {
      "text/plain": [
       "'! pip install ipyleaflet\\n! pip install ipywidgets\\n! pip install pandas'"
      ]
     },
     "execution_count": 1,
     "metadata": {},
     "output_type": "execute_result"
    }
   ],
   "source": [
    "# uncomment these lines if you are using this code for the first time\n",
    "\"\"\"! pip install ipyleaflet\n",
    "! pip install ipywidgets\n",
    "! pip install pandas\"\"\""
   ]
  },
  {
   "cell_type": "code",
   "execution_count": 2,
   "metadata": {},
   "outputs": [],
   "source": [
    "from ipyleaflet import Map, basemaps, basemap_to_tiles, Marker, MarkerCluster\n",
    "import pandas as pd\n",
    "from ipywidgets import Layout"
   ]
  },
  {
   "cell_type": "markdown",
   "metadata": {},
   "source": [
    "## Lets see basic map"
   ]
  },
  {
   "cell_type": "code",
   "execution_count": 3,
   "metadata": {},
   "outputs": [
    {
     "data": {
      "application/vnd.jupyter.widget-view+json": {
       "model_id": "9237e52ef2ab4b8d905e25750db4e1cd",
       "version_major": 2,
       "version_minor": 0
      },
      "text/plain": [
       "Map(center=[0.0, 0.0], controls=(ZoomControl(options=['position', 'zoom_in_text', 'zoom_in_title', 'zoom_out_t…"
      ]
     },
     "metadata": {},
     "output_type": "display_data"
    }
   ],
   "source": [
    "basic_map = Map(zoom=1)\n",
    "basic_map"
   ]
  },
  {
   "cell_type": "markdown",
   "metadata": {},
   "source": [
    "## Map Types\n",
    "\n",
    "بوردا نقشه لرین نوع لارین گورجیوغ"
   ]
  },
  {
   "cell_type": "code",
   "execution_count": 4,
   "metadata": {},
   "outputs": [
    {
     "data": {
      "application/vnd.jupyter.widget-view+json": {
       "model_id": "8ac16498a9ba47169dfa65c1754daa5f",
       "version_major": 2,
       "version_minor": 0
      },
      "text/plain": [
       "interactive(children=(RadioButtons(description='map types', options=('Positron', 'DarkMatter', 'WorldStreetMap…"
      ]
     },
     "metadata": {},
     "output_type": "display_data"
    },
    {
     "data": {
      "text/plain": [
       "<function __main__.mode_map(map)>"
      ]
     },
     "execution_count": 4,
     "metadata": {},
     "output_type": "execute_result"
    }
   ],
   "source": [
    "import ipywidgets\n",
    "from ipyleaflet import basemaps\n",
    "\n",
    "\n",
    "radio_button = ipywidgets.RadioButtons(options=['Positron',\n",
    " 'DarkMatter',\n",
    " 'WorldStreetMap', \n",
    " 'DeLorme',                                               \n",
    " 'WorldTopoMap', \n",
    " 'WorldImagery', \n",
    " 'NatGeoWorldMap', \n",
    " 'HikeBike',                                              \n",
    " 'HyddaFull', \n",
    " 'Night', \n",
    " 'ModisTerra', \n",
    " 'Mapnik', \n",
    " 'HOT', \n",
    " 'OpenTopoMap',         \n",
    " 'Toner', \n",
    " 'Watercolor'],                                       \n",
    " value='Positron', \n",
    "description='map types')\n",
    "\n",
    "def mode_map(map):\n",
    "    if map == 'Positron': m = Map(zoom=2, basemap= basemaps.CartoDB.Positron)\n",
    "    if map == 'DarkMatter': m = Map(zoom=1, basemap= basemaps.CartoDB.DarkMatter)\n",
    "    if map == 'WorldStreetMap': m = Map(center=(38.09, 46.27), zoom=10, basemap=basemaps.Esri.WorldStreetMap)\n",
    "    if map == 'DeLorme': m = Map(center=(38.25, 48.30), zoom=8, basemap=basemaps.Esri.DeLorme)\n",
    "    if map == 'WorldTopoMap': m = Map(center=(37.54, 45.07), zoom=8, basemap=basemaps.Esri.WorldTopoMap)\n",
    "    if map == 'WorldImagery': m = Map(center=(38.26, 47.83), zoom=8, basemap=basemaps.Esri.WorldImagery)\n",
    "    if map == 'NatGeoWorldMap': m = Map(center=(36.68, 48.50), zoom=8, basemap=basemaps.Esri.NatGeoWorldMap)\n",
    "    if map == 'HikeBike': m = Map(center=(35.68, 51.38), zoom=10, basemap=basemaps.HikeBike.HikeBike)\n",
    "    if map == 'HyddaFull': m = Map(center=(36.27, 49.99), zoom=4, basemap=basemaps.Hydda.Full)\n",
    "    if map == 'Night': m = Map(center=(38.40, 48.60), zoom=8, basemap=basemaps.NASAGIBS.ViirsEarthAtNight2012)\n",
    "    if map == 'ModisTerra': m = Map(center=(40.40, 49.86), zoom=8, basemap=basemaps.NASAGIBS.ModisTerraTrueColorCR)\n",
    "    if map == 'Mapnik': m = Map(center=(41.00, 28.97), zoom=8, basemap=basemaps.OpenStreetMap.Mapnik)\n",
    "    if map == 'HOT': m = Map(center=(34.79, 48.51), zoom=7, basemap=basemaps.OpenStreetMap.HOT)\n",
    "    if map == 'OpenTopoMap': m = Map(center=(38.14, 48.06), zoom=8, basemap=basemaps.OpenTopoMap)\n",
    "    if map == 'Toner': m = Map(center=(38.25, 48.30), zoom=8, basemap=basemaps.Stamen.Toner)\n",
    "    if map == 'Watercolor': m = Map(center=(38.25, 48.30), zoom=8, basemap=basemaps.Stamen.Watercolor)\n",
    "    display(m)  \n",
    "ipywidgets.interact(mode_map, map=radio_button)  "
   ]
  },
  {
   "cell_type": "code",
   "execution_count": 5,
   "metadata": {},
   "outputs": [
    {
     "data": {
      "application/vnd.jupyter.widget-view+json": {
       "model_id": "43a35dcf8b054393a64214748f5b2b72",
       "version_major": 2,
       "version_minor": 0
      },
      "text/plain": [
       "Map(center=[38, 47], controls=(ZoomControl(options=['position', 'zoom_in_text', 'zoom_in_title', 'zoom_out_tex…"
      ]
     },
     "metadata": {},
     "output_type": "display_data"
    }
   ],
   "source": [
    "from ipyleaflet import Map, Marker, MarkerCluster\n",
    "\n",
    "m = Map(center=(38, 47), zoom=7)\n",
    "\n",
    "marker1 = Marker(location=(38.25, 48.30))\n",
    "marker2 = Marker(location=(38.09, 46.27))\n",
    "marker3 = Marker(location=(38.19, 47.27))\n",
    "\n",
    "marker_cluster = MarkerCluster(\n",
    "    markers=(marker1, marker2, marker3)\n",
    ")\n",
    "\n",
    "m.add_layer(marker_cluster)\n",
    "\n",
    "m"
   ]
  },
  {
   "cell_type": "code",
   "execution_count": null,
   "metadata": {},
   "outputs": [],
   "source": []
  }
 ],
 "metadata": {
  "interpreter": {
   "hash": "f37e42b12bd1748322ce5a2251ca22602ec7c09e81e48cb8b4978f90cad86323"
  },
  "kernelspec": {
   "display_name": "Python 3.10.1 64-bit ('venv10': venv)",
   "language": "python",
   "name": "python3"
  },
  "language_info": {
   "codemirror_mode": {
    "name": "ipython",
    "version": 3
   },
   "file_extension": ".py",
   "mimetype": "text/x-python",
   "name": "python",
   "nbconvert_exporter": "python",
   "pygments_lexer": "ipython3",
   "version": "3.10.2"
  },
  "orig_nbformat": 4
 },
 "nbformat": 4,
 "nbformat_minor": 2
}
