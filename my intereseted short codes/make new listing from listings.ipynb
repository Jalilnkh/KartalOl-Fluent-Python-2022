{
 "cells": [
  {
   "cell_type": "code",
   "execution_count": 15,
   "metadata": {},
   "outputs": [],
   "source": [
    "from ast import literal_eval\n",
    "import pandas as pd\n",
    "df = pd.read_csv(\"test_case.csv\")\n",
    "new_df=pd.DataFrame()\n",
    "for main_list, dup_list in zip(df['listing_id'].loc[:48], df['duplicates'].loc[:48]):\n",
    "    result = literal_eval(dup_list)\n",
    "    #result = dup_list.split(',')\n",
    "    for res in result:\n",
    "        new_df = new_df.append({ 'listing_id_1':int(main_list), \n",
    "                                'listing_id_2':int(res)},\n",
    "                                ignore_index=True)\n",
    "\n",
    "\n",
    "new_df.to_csv(\"testcase_res.csv\",mode='a' ,index=False, header=False)"
   ]
  },
  {
   "cell_type": "code",
   "execution_count": 16,
   "metadata": {},
   "outputs": [
    {
     "data": {
      "text/html": [
       "<div>\n",
       "<style scoped>\n",
       "    .dataframe tbody tr th:only-of-type {\n",
       "        vertical-align: middle;\n",
       "    }\n",
       "\n",
       "    .dataframe tbody tr th {\n",
       "        vertical-align: top;\n",
       "    }\n",
       "\n",
       "    .dataframe thead th {\n",
       "        text-align: right;\n",
       "    }\n",
       "</style>\n",
       "<table border=\"1\" class=\"dataframe\">\n",
       "  <thead>\n",
       "    <tr style=\"text-align: right;\">\n",
       "      <th></th>\n",
       "      <th>listing_id_1</th>\n",
       "      <th>listing_id_2</th>\n",
       "    </tr>\n",
       "  </thead>\n",
       "  <tbody>\n",
       "    <tr>\n",
       "      <th>0</th>\n",
       "      <td>2126147.0</td>\n",
       "      <td>1948846.0</td>\n",
       "    </tr>\n",
       "    <tr>\n",
       "      <th>1</th>\n",
       "      <td>2127031.0</td>\n",
       "      <td>1897657.0</td>\n",
       "    </tr>\n",
       "    <tr>\n",
       "      <th>2</th>\n",
       "      <td>2127166.0</td>\n",
       "      <td>2046233.0</td>\n",
       "    </tr>\n",
       "    <tr>\n",
       "      <th>3</th>\n",
       "      <td>2127166.0</td>\n",
       "      <td>1940962.0</td>\n",
       "    </tr>\n",
       "    <tr>\n",
       "      <th>4</th>\n",
       "      <td>1243873.0</td>\n",
       "      <td>1210952.0</td>\n",
       "    </tr>\n",
       "    <tr>\n",
       "      <th>...</th>\n",
       "      <td>...</td>\n",
       "      <td>...</td>\n",
       "    </tr>\n",
       "    <tr>\n",
       "      <th>163</th>\n",
       "      <td>1248959.0</td>\n",
       "      <td>1016313.0</td>\n",
       "    </tr>\n",
       "    <tr>\n",
       "      <th>164</th>\n",
       "      <td>1248982.0</td>\n",
       "      <td>1247923.0</td>\n",
       "    </tr>\n",
       "    <tr>\n",
       "      <th>165</th>\n",
       "      <td>2464789.0</td>\n",
       "      <td>2463833.0</td>\n",
       "    </tr>\n",
       "    <tr>\n",
       "      <th>166</th>\n",
       "      <td>2464789.0</td>\n",
       "      <td>2462663.0</td>\n",
       "    </tr>\n",
       "    <tr>\n",
       "      <th>167</th>\n",
       "      <td>2466152.0</td>\n",
       "      <td>2114870.0</td>\n",
       "    </tr>\n",
       "  </tbody>\n",
       "</table>\n",
       "<p>168 rows × 2 columns</p>\n",
       "</div>"
      ],
      "text/plain": [
       "     listing_id_1  listing_id_2\n",
       "0       2126147.0     1948846.0\n",
       "1       2127031.0     1897657.0\n",
       "2       2127166.0     2046233.0\n",
       "3       2127166.0     1940962.0\n",
       "4       1243873.0     1210952.0\n",
       "..            ...           ...\n",
       "163     1248959.0     1016313.0\n",
       "164     1248982.0     1247923.0\n",
       "165     2464789.0     2463833.0\n",
       "166     2464789.0     2462663.0\n",
       "167     2466152.0     2114870.0\n",
       "\n",
       "[168 rows x 2 columns]"
      ]
     },
     "execution_count": 16,
     "metadata": {},
     "output_type": "execute_result"
    }
   ],
   "source": [
    "new_df"
   ]
  }
 ],
 "metadata": {
  "interpreter": {
   "hash": "f37e42b12bd1748322ce5a2251ca22602ec7c09e81e48cb8b4978f90cad86323"
  },
  "kernelspec": {
   "display_name": "Python 3.10.2 ('venv10': venv)",
   "language": "python",
   "name": "python3"
  },
  "language_info": {
   "codemirror_mode": {
    "name": "ipython",
    "version": 3
   },
   "file_extension": ".py",
   "mimetype": "text/x-python",
   "name": "python",
   "nbconvert_exporter": "python",
   "pygments_lexer": "ipython3",
   "version": "3.10.2"
  },
  "orig_nbformat": 4
 },
 "nbformat": 4,
 "nbformat_minor": 2
}
