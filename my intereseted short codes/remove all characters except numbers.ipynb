{
 "cells": [
  {
   "cell_type": "markdown",
   "metadata": {},
   "source": [
    "Remove all cahracters execpt numbers and ,"
   ]
  },
  {
   "cell_type": "code",
   "execution_count": 2,
   "metadata": {},
   "outputs": [],
   "source": [
    "from ast import literal_eval\n",
    "import pandas as pd\n",
    "df = pd.read_csv(\"test_case.csv\")\n",
    "import re\n",
    "new_df=[]\n",
    "df = pd.read_csv(\"test_case.csv\")\n",
    "for stri in df['array_agg']:\n",
    "    result = re.sub('[^0-9,]','', stri)\n",
    "    new_df.append(int(result.split(',')[0]))\n",
    "\n",
    "df['array_agg']=new_df\n",
    "df.to_csv(\"testcase_res.csv\")"
   ]
  }
 ],
 "metadata": {
  "interpreter": {
   "hash": "f37e42b12bd1748322ce5a2251ca22602ec7c09e81e48cb8b4978f90cad86323"
  },
  "kernelspec": {
   "display_name": "Python 3.10.1 64-bit ('venv10': venv)",
   "language": "python",
   "name": "python3"
  },
  "language_info": {
   "codemirror_mode": {
    "name": "ipython",
    "version": 3
   },
   "file_extension": ".py",
   "mimetype": "text/x-python",
   "name": "python",
   "nbconvert_exporter": "python",
   "pygments_lexer": "ipython3",
   "version": "3.10.2"
  },
  "orig_nbformat": 4
 },
 "nbformat": 4,
 "nbformat_minor": 2
}
