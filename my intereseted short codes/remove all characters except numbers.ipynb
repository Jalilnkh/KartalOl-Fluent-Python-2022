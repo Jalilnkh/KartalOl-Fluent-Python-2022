{
 "cells": [
  {
   "cell_type": "markdown",
   "metadata": {},
   "source": [
    "Remove all cahracters execpt numbers and ,"
   ]
  },
  {
   "cell_type": "code",
   "execution_count": null,
   "metadata": {},
   "outputs": [],
   "source": [
    "\n",
    "\n",
    "from ast import literal_eval\n",
    "import pandas as pd\n",
    "#df = pd.read_csv(\"Sheet3.csv\")\n",
    "import re\n",
    "new_df=[]\n",
    "df = pd.read_csv(\"listing_for_nonduplicated_extraction.csv\")\n",
    "for stri in df['array_agg']:\n",
    "    result = re.sub('[^0-9,]','', stri)\n",
    "    new_df.append(int(result.split(',')[0]))\n"
   ]
  }
 ],
 "metadata": {
  "language_info": {
   "name": "python"
  },
  "orig_nbformat": 4
 },
 "nbformat": 4,
 "nbformat_minor": 2
}
