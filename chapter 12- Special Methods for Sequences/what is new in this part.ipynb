{
 "cells": [
  {
   "cell_type": "markdown",
   "metadata": {},
   "source": [
    "What’s new in this chapter\n",
    "\n",
    "There are no major changes in this chapter. There is a new, brief discussion\n",
    "of the typing.Protocol in a tip box near the end of “Protocols and\n",
    "Duck Typing”.\n",
    "\n",
    "In “A Slice-Aware __getitem__”, the implementation of __getitem__ in\n",
    "Example 12-6 is more concise and robust than the example in the first\n",
    "edition, thanks to duck typing and operator.index. \n",
    "This change\n",
    "carried over to later implementations of Vector in this chapter and in\n",
    "Chapter 16.\n",
    "Let’s get started."
   ]
  },
  {
   "cell_type": "code",
   "execution_count": null,
   "metadata": {},
   "outputs": [],
   "source": []
  }
 ],
 "metadata": {
  "language_info": {
   "name": "python"
  },
  "orig_nbformat": 4
 },
 "nbformat": 4,
 "nbformat_minor": 2
}
