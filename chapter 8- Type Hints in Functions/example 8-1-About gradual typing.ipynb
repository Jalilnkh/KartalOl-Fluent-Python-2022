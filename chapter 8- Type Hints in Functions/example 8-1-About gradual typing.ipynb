{
 "cells": [
  {
   "cell_type": "markdown",
   "metadata": {},
   "source": [
    "Other languages with\n",
    "gradual type systems are Microsoft’s TypeScript, Dart (the language of the\n",
    "Flutter SDK, created by Google), and Hack (a dialect of PHP supported by\n",
    "Facebook’s HHVM virtual machine)."
   ]
  },
  {
   "cell_type": "markdown",
   "metadata": {},
   "source": [
    "def show_count(count, word):\n",
    "    if count == 1:\n",
    "        return f'1 {word}'\n",
    "    count_str = str(count) if count else 'no'\n",
    "    return f'{count_str} {word}s'\n",
    "    \n"
   ]
  },
  {
   "cell_type": "code",
   "execution_count": 2,
   "metadata": {},
   "outputs": [
    {
     "ename": "NameError",
     "evalue": "name 'show_count' is not defined",
     "output_type": "error",
     "traceback": [
      "\u001b[0;31m---------------------------------------------------------------------------\u001b[0m",
      "\u001b[0;31mNameError\u001b[0m                                 Traceback (most recent call last)",
      "\u001b[1;32m/home/oem/Desktop/projects/2022/KartalOl-Fluent-Python-2022/chapter 8- Type Hints in Functions/example 8-1-About gradual typing.ipynb Cell 2'\u001b[0m in \u001b[0;36m<module>\u001b[0;34m\u001b[0m\n\u001b[0;32m----> <a href='vscode-notebook-cell:/home/oem/Desktop/projects/2022/KartalOl-Fluent-Python-2022/chapter%208-%20Type%20Hints%20in%20Functions/example%208-1-About%20gradual%20typing.ipynb#ch0000001?line=0'>1</a>\u001b[0m show_count(\u001b[39m99\u001b[39m, \u001b[39m'\u001b[39m\u001b[39mbird\u001b[39m\u001b[39m'\u001b[39m)\n",
      "\u001b[0;31mNameError\u001b[0m: name 'show_count' is not defined"
     ]
    }
   ],
   "source": [
    "show_count(99, 'bird')"
   ]
  },
  {
   "cell_type": "code",
   "execution_count": null,
   "metadata": {},
   "outputs": [],
   "source": []
  }
 ],
 "metadata": {
  "interpreter": {
   "hash": "97cc609b13305c559618ec78a438abc56230b9381f827f22d070313b9a1f3777"
  },
  "kernelspec": {
   "display_name": "Python 3.10.2 64-bit",
   "language": "python",
   "name": "python3"
  },
  "language_info": {
   "codemirror_mode": {
    "name": "ipython",
    "version": 3
   },
   "file_extension": ".py",
   "mimetype": "text/x-python",
   "name": "python",
   "nbconvert_exporter": "python",
   "pygments_lexer": "ipython3",
   "version": "3.10.2"
  },
  "orig_nbformat": 4
 },
 "nbformat": 4,
 "nbformat_minor": 2
}
