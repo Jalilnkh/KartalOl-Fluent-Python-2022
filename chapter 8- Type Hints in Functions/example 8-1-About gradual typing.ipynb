{
 "cells": [
  {
   "cell_type": "markdown",
   "metadata": {},
   "source": [
    "Other languages with\n",
    "gradual type systems are Microsoft’s TypeScript, Dart (the language of the\n",
    "Flutter SDK, created by Google), and Hack (a dialect of PHP supported by\n",
    "Facebook’s HHVM virtual machine)."
   ]
  },
  {
   "cell_type": "code",
   "execution_count": null,
   "metadata": {},
   "outputs": [],
   "source": []
  }
 ],
 "metadata": {
  "language_info": {
   "name": "python"
  },
  "orig_nbformat": 4
 },
 "nbformat": 4,
 "nbformat_minor": 2
}
