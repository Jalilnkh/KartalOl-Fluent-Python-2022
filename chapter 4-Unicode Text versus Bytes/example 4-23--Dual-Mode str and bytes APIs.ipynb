{
 "cells": [
  {
   "cell_type": "markdown",
   "metadata": {},
   "source": [
    "Python’s standard library has functions that accept str or bytes\n",
    "arguments and behave differently depending on the type."
   ]
  },
  {
   "cell_type": "markdown",
   "metadata": {},
   "source": [
    "str Versus bytes in Regular Expressions"
   ]
  },
  {
   "cell_type": "markdown",
   "metadata": {},
   "source": [
    "Example 4-23. ramanujan.py: compare behavior of simple str and bytes\n",
    "regular expressions"
   ]
  },
  {
   "cell_type": "code",
   "execution_count": 2,
   "metadata": {},
   "outputs": [
    {
     "name": "stdout",
     "output_type": "stream",
     "text": [
      "Text\n",
      " 'Ramanujan saw ௧௭௨௯ as 1729 = 13 + 123 = 93 + 103.'\n",
      "Numbers\n",
      " str : ['௧௭௨௯', '1729', '13', '123', '93', '103']\n",
      " bytes: [b'1729', b'13', b'123', b'93', b'103']\n",
      "Words\n",
      " str : ['Ramanujan', 'saw', '௧௭௨௯', 'as', '1729', '13', '123', '93', '103']\n",
      " bytes: [b'Ramanujan', b'saw', b'as', b'1729', b'13', b'123', b'93', b'103']\n"
     ]
    }
   ],
   "source": [
    "import re\n",
    "\n",
    "re_numbers_str = re.compile(r'\\d+')\n",
    "re_words_str = re.compile(r'\\w+')\n",
    "re_numbers_bytes = re.compile(rb'\\d+')\n",
    "re_words_bytes = re.compile(rb'\\w+')\n",
    "\n",
    "text_str = (\"Ramanujan saw \\u0be7\\u0bed\\u0be8\\u0bef\"\n",
    "            \" as 1729 = 13 + 123 = 93 + 103.\")\n",
    "\n",
    "text_bytes = text_str.encode('utf_8')\n",
    "\n",
    "print(f'Text\\n {text_str!r}')\n",
    "print('Numbers')\n",
    "print(' str :', re_numbers_str.findall(text_str))\n",
    "print(' bytes:', re_numbers_bytes.findall(text_bytes))\n",
    "print('Words')\n",
    "print(' str :', re_words_str.findall(text_str))\n",
    "print(' bytes:', re_words_bytes.findall(text_bytes))\n"
   ]
  },
  {
   "cell_type": "markdown",
   "metadata": {},
   "source": [
    "Example 4-24. listdir with str and bytes arguments and results"
   ]
  },
  {
   "cell_type": "code",
   "execution_count": 3,
   "metadata": {},
   "outputs": [
    {
     "data": {
      "text/plain": [
       "['Example 4-1-Character Issues.ipynb',\n",
       " 'example 4-8-12-Handling Text Files.ipynb',\n",
       " 'example 4-13-18-Normalizing Unicode for Reliable Comparisons.ipynb',\n",
       " 'example 4-23--Dual-Mode str and bytes APIs.ipynb',\n",
       " 'example4-19-22-Sorting Unicode Text.ipynb',\n",
       " 'cafe.txt',\n",
       " 'dummy']"
      ]
     },
     "execution_count": 3,
     "metadata": {},
     "output_type": "execute_result"
    }
   ],
   "source": [
    "import os\n",
    "os.listdir('.')"
   ]
  },
  {
   "cell_type": "code",
   "execution_count": 4,
   "metadata": {},
   "outputs": [
    {
     "data": {
      "text/plain": [
       "[b'Example 4-1-Character Issues.ipynb',\n",
       " b'example 4-8-12-Handling Text Files.ipynb',\n",
       " b'example 4-13-18-Normalizing Unicode for Reliable Comparisons.ipynb',\n",
       " b'example 4-23--Dual-Mode str and bytes APIs.ipynb',\n",
       " b'example4-19-22-Sorting Unicode Text.ipynb',\n",
       " b'cafe.txt',\n",
       " b'dummy']"
      ]
     },
     "execution_count": 4,
     "metadata": {},
     "output_type": "execute_result"
    }
   ],
   "source": [
    "os.listdir(b'.')"
   ]
  },
  {
   "cell_type": "code",
   "execution_count": null,
   "metadata": {},
   "outputs": [],
   "source": []
  }
 ],
 "metadata": {
  "interpreter": {
   "hash": "f37e42b12bd1748322ce5a2251ca22602ec7c09e81e48cb8b4978f90cad86323"
  },
  "kernelspec": {
   "display_name": "Python 3.10.2 64-bit ('venv10': venv)",
   "language": "python",
   "name": "python3"
  },
  "language_info": {
   "codemirror_mode": {
    "name": "ipython",
    "version": 3
   },
   "file_extension": ".py",
   "mimetype": "text/x-python",
   "name": "python",
   "nbconvert_exporter": "python",
   "pygments_lexer": "ipython3",
   "version": "3.10.2"
  },
  "orig_nbformat": 4
 },
 "nbformat": 4,
 "nbformat_minor": 2
}
